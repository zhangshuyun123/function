{
 "cells": [
  {
   "cell_type": "markdown",
   "metadata": {},
   "source": [
    "# 列表List\n",
    "- 一个列表可以储存任意大小的数据集合，你可以理解为他是一个容器"
   ]
  },
  {
   "cell_type": "markdown",
   "metadata": {},
   "source": [
    "## 先来一个例子爽一爽\n",
    "![](../Photo/115.png)"
   ]
  },
  {
   "cell_type": "markdown",
   "metadata": {},
   "source": [
    "## 创建一个列表\n",
    "- a = [1,2,3,4,5]"
   ]
  },
  {
   "cell_type": "code",
   "execution_count": 2,
   "metadata": {},
   "outputs": [
    {
     "data": {
      "text/plain": [
       "['a', 'b', 'c', 'd', 'e', 'f']"
      ]
     },
     "execution_count": 2,
     "metadata": {},
     "output_type": "execute_result"
    }
   ],
   "source": [
    "a3 = list('abcdef')\n",
    "a3"
   ]
  },
  {
   "cell_type": "code",
   "execution_count": 3,
   "metadata": {},
   "outputs": [
    {
     "data": {
      "text/plain": [
       "[1, 1, 2, 3, 100]"
      ]
     },
     "execution_count": 3,
     "metadata": {},
     "output_type": "execute_result"
    }
   ],
   "source": [
    "a = [1,2,3]\n",
    "[1] + a + [100]"
   ]
  },
  {
   "cell_type": "code",
   "execution_count": 4,
   "metadata": {},
   "outputs": [
    {
     "data": {
      "text/plain": [
       "[1, 2, 3, 1, 2, 3, 1, 2, 3]"
      ]
     },
     "execution_count": 4,
     "metadata": {},
     "output_type": "execute_result"
    }
   ],
   "source": [
    "a * 3"
   ]
  },
  {
   "cell_type": "markdown",
   "metadata": {},
   "source": [
    "## 列表的一般操作\n",
    "![](../Photo/116.png)"
   ]
  },
  {
   "cell_type": "markdown",
   "metadata": {},
   "source": [
    "## 列表索引操作\n",
    "- Mylist[index]\n",
    "- 正序索引，逆序索引\n",
    "- 列表一定注意越界\n",
    "- ![](../Photo/117.png)"
   ]
  },
  {
   "cell_type": "markdown",
   "metadata": {},
   "source": [
    "## 列表切片操作\n",
    "- Mylist[start:end]\n",
    "- 正序切片，逆序切片"
   ]
  },
  {
   "cell_type": "code",
   "execution_count": 11,
   "metadata": {},
   "outputs": [
    {
     "name": "stdout",
     "output_type": "stream",
     "text": [
      "1\n",
      "2\n",
      "3\n"
     ]
    }
   ],
   "source": [
    "i = 0 \n",
    "while i < len(a):\n",
    "    print(a[i])\n",
    "    i += 1\n",
    "#     if i >= 3:\n",
    "#         break"
   ]
  },
  {
   "cell_type": "markdown",
   "metadata": {},
   "source": [
    "## 列表 +、*、in 、not in"
   ]
  },
  {
   "cell_type": "markdown",
   "metadata": {},
   "source": [
    "## 使用for循环遍历元素\n",
    "- for 循环可以遍历一切可迭代元素"
   ]
  },
  {
   "cell_type": "markdown",
   "metadata": {},
   "source": [
    "## EP：\n",
    "- 使用while 循环遍历列表"
   ]
  },
  {
   "cell_type": "markdown",
   "metadata": {},
   "source": [
    "## 列表的比较\n",
    "- \\>,<,>=,<=,==,!="
   ]
  },
  {
   "cell_type": "markdown",
   "metadata": {},
   "source": [
    "## 列表生成式\n",
    "[x for x in range(10)]"
   ]
  },
  {
   "cell_type": "code",
   "execution_count": 3,
   "metadata": {},
   "outputs": [
    {
     "data": {
      "text/plain": [
       "[0, 1, 2, 3, 4, 5, 6, 7, 8, 9]"
      ]
     },
     "execution_count": 3,
     "metadata": {},
     "output_type": "execute_result"
    }
   ],
   "source": [
    "[x for x in range(10) ]"
   ]
  },
  {
   "cell_type": "code",
   "execution_count": 4,
   "metadata": {},
   "outputs": [
    {
     "data": {
      "text/plain": [
       "[0, 2, 4, 6, 8]"
      ]
     },
     "execution_count": 4,
     "metadata": {},
     "output_type": "execute_result"
    }
   ],
   "source": [
    "[x for x in range(10) if x % 2 == 0 ] "
   ]
  },
  {
   "cell_type": "code",
   "execution_count": 7,
   "metadata": {},
   "outputs": [
    {
     "data": {
      "text/plain": [
       "[0, 2, 4, 6, 8]"
      ]
     },
     "execution_count": 7,
     "metadata": {},
     "output_type": "execute_result"
    }
   ],
   "source": [
    "[x for x in range(10) if x % 2 == 0 ] "
   ]
  },
  {
   "cell_type": "code",
   "execution_count": 1,
   "metadata": {},
   "outputs": [
    {
     "data": {
      "text/plain": [
       "[0, 100, 2, 100, 4, 100, 6, 100, 8, 100]"
      ]
     },
     "execution_count": 1,
     "metadata": {},
     "output_type": "execute_result"
    }
   ],
   "source": [
    "[ x if x%2 == 0 else 100  for x in range(10) ]"
   ]
  },
  {
   "cell_type": "code",
   "execution_count": 5,
   "metadata": {},
   "outputs": [
    {
     "data": {
      "text/plain": [
       "[0, 1, 2, 3, 4, 5]"
      ]
     },
     "execution_count": 5,
     "metadata": {},
     "output_type": "execute_result"
    }
   ],
   "source": [
    "a = [x for x in range(5)]\n",
    "a.append(5) # append修改原列表\n",
    "a"
   ]
  },
  {
   "cell_type": "markdown",
   "metadata": {},
   "source": [
    "## 列表的方法\n",
    "![](../Photo/118.png)"
   ]
  },
  {
   "cell_type": "code",
   "execution_count": 9,
   "metadata": {},
   "outputs": [
    {
     "data": {
      "text/plain": [
       "[4, 3, 100, 1]"
      ]
     },
     "execution_count": 9,
     "metadata": {},
     "output_type": "execute_result"
    }
   ],
   "source": [
    "a1 = [1,2,3,4]\n",
    "a1.insert(1,100)#插入\n",
    "a1\n",
    "a1.remove(2)#删除\n",
    "a1\n",
    "a1.reverse()#翻转\n",
    "a1"
   ]
  },
  {
   "cell_type": "code",
   "execution_count": 10,
   "metadata": {},
   "outputs": [
    {
     "data": {
      "text/plain": [
       "[-10, -6, -1, 0, 1, 5]"
      ]
     },
     "execution_count": 10,
     "metadata": {},
     "output_type": "execute_result"
    }
   ],
   "source": [
    "aq = [0,-1,1,5,-6,-10]\n",
    "aq.sort()#升序排列\n",
    "aq"
   ]
  },
  {
   "cell_type": "code",
   "execution_count": 12,
   "metadata": {},
   "outputs": [
    {
     "data": {
      "text/plain": [
       "[5, 1, 0, -1, -6, -10]"
      ]
     },
     "execution_count": 12,
     "metadata": {},
     "output_type": "execute_result"
    }
   ],
   "source": [
    "aq.sort(reverse = True)#降序排列\n",
    "aq   #  *表示强制命名"
   ]
  },
  {
   "cell_type": "code",
   "execution_count": 14,
   "metadata": {},
   "outputs": [
    {
     "data": {
      "text/plain": [
       "[4, 3, 3, 2, 0, -1]"
      ]
     },
     "execution_count": 14,
     "metadata": {},
     "output_type": "execute_result"
    }
   ],
   "source": [
    "a1 = [0,-1,2,3,3,4]\n",
    "sorted(a1,reverse=True)#   sorted不更改源数据"
   ]
  },
  {
   "cell_type": "code",
   "execution_count": 26,
   "metadata": {},
   "outputs": [
    {
     "data": {
      "text/plain": [
       "[['男2', 0], ['男1', 2], ['困的黁', 18], ['你看', 22]]"
      ]
     },
     "execution_count": 26,
     "metadata": {},
     "output_type": "execute_result"
    }
   ],
   "source": [
    "list_ = [['困的黁',18],['你看',22],['男1',2],['男2',0]]\n",
    "sorted(list_,key = lambda x : x[1])"
   ]
  },
  {
   "cell_type": "code",
   "execution_count": 36,
   "metadata": {},
   "outputs": [
    {
     "data": {
      "text/plain": [
       "[['男2', 0, -99], ['皮卡丘', 22, 100], ['高风艳', 80, 10000], ['男1', 2, 20000]]"
      ]
     },
     "execution_count": 36,
     "metadata": {},
     "output_type": "execute_result"
    }
   ],
   "source": [
    "list_  = [['高风艳',80,10000],['皮卡丘',22,100],['男1',2,20000],['男2',0,-99]]\n",
    "sorted(list_,key=lambda x:x[2])"
   ]
  },
  {
   "cell_type": "code",
   "execution_count": 32,
   "metadata": {},
   "outputs": [],
   "source": [
    "# def B2():\n",
    "#     print('哈哈哈')\n",
    "# def B1（）:\n",
    "#     func()\n",
    "# B1(B2)"
   ]
  },
  {
   "cell_type": "code",
   "execution_count": null,
   "metadata": {},
   "outputs": [],
   "source": []
  },
  {
   "cell_type": "code",
   "execution_count": 13,
   "metadata": {},
   "outputs": [
    {
     "data": {
      "text/plain": [
       "[<matplotlib.lines.Line2D at 0x22b40d13710>]"
      ]
     },
     "execution_count": 13,
     "metadata": {},
     "output_type": "execute_result"
    }
   ],
   "source": [
    "import matplotlib.pyplot as plt\n",
    "plt.plot([1,2,3],[1,2,3])"
   ]
  },
  {
   "cell_type": "code",
   "execution_count": 21,
   "metadata": {},
   "outputs": [
    {
     "data": {
      "text/plain": [
       "[<matplotlib.lines.Line2D at 0x21c29a74518>]"
      ]
     },
     "execution_count": 21,
     "metadata": {},
     "output_type": "execute_result"
    },
    {
     "data": {
      "image/png": "[encoded data removed]",
      "text/plain": [
       "<matplotlib.figure.Figure at 0x21c2e0644e0>"
      ]
     },
     "metadata": {},
     "output_type": "display_data"
    }
   ],
   "source": [
    "import matplotlib.pyplot as plt\n",
    "x = []\n",
    "y = []\n",
    "for i in range(-10,11):\n",
    "    x.append(i)\n",
    "    y.append(i ** 2)\n",
    "plt.plot(x,y)"
   ]
  },
  {
   "cell_type": "code",
   "execution_count": 9,
   "metadata": {},
   "outputs": [
    {
     "data": {
      "text/plain": [
       "[<matplotlib.lines.Line2D at 0x1659e6a5908>]"
      ]
     },
     "execution_count": 9,
     "metadata": {},
     "output_type": "execute_result"
    },
    {
     "data": {
      "image/png": "[encoded data removed]",
      "text/plain": [
       "<matplotlib.figure.Figure at 0x1659e481550>"
      ]
     },
     "metadata": {},
     "output_type": "display_data"
    }
   ],
   "source": [
    "import matplotlib.pyplot as plt\n",
    "x = []\n",
    "y = []\n",
    "for i in range(-10,11):\n",
    "    x.append(i)\n",
    "    y.append(i ** 2)\n",
    "plt.plot(x,y,'r--')"
   ]
  },
  {
   "cell_type": "code",
   "execution_count": 23,
   "metadata": {},
   "outputs": [
    {
     "data": {
      "text/plain": [
       "[<matplotlib.lines.Line2D at 0x21c300e4eb8>]"
      ]
     },
     "execution_count": 23,
     "metadata": {},
     "output_type": "execute_result"
    },
    {
     "data": {
      "image/png": "[encoded data removed]",
      "text/plain": [
       "<matplotlib.figure.Figure at 0x21c300f10b8>"
      ]
     },
     "metadata": {},
     "output_type": "display_data"
    }
   ],
   "source": [
    "import matplotlib.pyplot as plt\n",
    "x = []\n",
    "y = []\n",
    "for i in range(-10,11):\n",
    "    x.append(i)\n",
    "    y.append(i ** 2)\n",
    "plt.plot(x,y,'r--')\n",
    "plt.plot(x,y)"
   ]
  },
  {
   "cell_type": "code",
   "execution_count": 31,
   "metadata": {},
   "outputs": [
    {
     "data": {
      "image/png": "[encoded data removed]",
      "text/plain": [
       "<matplotlib.figure.Figure at 0x21c2df96ef0>"
      ]
     },
     "metadata": {},
     "output_type": "display_data"
    }
   ],
   "source": [
    "# coding:utf-8\n",
    "__author__ = 'taohao'\n",
    "import matplotlib.pyplot as plt\n",
    "from matplotlib import animation\n",
    "import numpy as np\n",
    "import math\n",
    " \n",
    "def drawHeart():\n",
    "    t = np.linspace(0, math.pi, 1000)\n",
    "    x = np.sin(t)\n",
    "    y = np.cos(t) + np.power(x, 2.0/3)\n",
    "    plt.plot(x, y, color='red', linewidth=2, label='h')\n",
    "    plt.plot(-x, y, color='red', linewidth=2, label='-h')\n",
    "    plt.xlabel('t')\n",
    "    plt.ylabel('h')\n",
    "    plt.ylim(-2, 2)\n",
    "    plt.xlim(-2, 2)\n",
    "    plt.legend()\n",
    "    plt.show()\n",
    "drawHeart()"
   ]
  },
  {
   "cell_type": "code",
   "execution_count": 10,
   "metadata": {},
   "outputs": [],
   "source": [
    "from turtle import *\n",
    "pensize(1)\n",
    "pencolor('red')\n",
    "fillcolor('pink')\n",
    "speed(5)\n",
    "up()\n",
    "goto(-30, 100)\n",
    "down()\n",
    "begin_fill()\n",
    "left(90)\n",
    "circle(120,180)\n",
    "circle(360,70)\n",
    "left(38)\n",
    "circle(360,70)\n",
    "circle(120,180)\n",
    "end_fill()\n",
    "up()\n",
    "goto(-100,-100)\n",
    "down()"
   ]
  },
  {
   "cell_type": "markdown",
   "metadata": {},
   "source": [
    "## 将字符串分割成列表\n",
    "- split  按照自定义的内容拆分"
   ]
  },
  {
   "cell_type": "code",
   "execution_count": 3,
   "metadata": {},
   "outputs": [
    {
     "data": {
      "text/plain": [
       "15"
      ]
     },
     "execution_count": 3,
     "metadata": {},
     "output_type": "execute_result"
    }
   ],
   "source": [
    "sum([1,2,3,4,5])"
   ]
  },
  {
   "cell_type": "markdown",
   "metadata": {},
   "source": [
    "## EP:\n",
    "![](../Photo/119.png)\n",
    "![](../Photo/120.png)"
   ]
  },
  {
   "cell_type": "code",
   "execution_count": 2,
   "metadata": {
    "scrolled": true
   },
   "outputs": [],
   "source": [
    "# coding:utf-8\n",
    "import turtle as t\n",
    "t.pensize(4) # 设置画笔的大小\n",
    "t.colormode(255) # 设置GBK颜色范围为0-255\n",
    "t.color((255,155,192),\"pink\") # 设置画笔颜色和填充颜色(pink)\n",
    "t.setup(840,500) # 设置主窗口的大小为840*500\n",
    "t.speed(10) # 设置画笔速度为10\n",
    "#鼻子\n",
    "t.pu() # 提笔\n",
    "t.goto(-100,100) # 画笔前往坐标(-100,100)\n",
    "t.pd() # 下笔\n",
    "t.seth(-30) # 笔的角度为-30°\n",
    "t.begin_fill() # 外形填充的开始标志\n",
    "a=0.4\n",
    "for i in range(120):\n",
    "    if 0<=i<30 or 60<=i<90:\n",
    "        a=a+0.08\n",
    "        t.lt(3) #向左转3度\n",
    "        t.fd(a) #向前走a的步长\n",
    "    else:\n",
    "        a=a-0.08\n",
    "        t.lt(3)\n",
    "        t.fd(a)\n",
    "t.end_fill() # 依据轮廓填充\n",
    "t.pu() # 提笔\n",
    "t.seth(90) # 笔的角度为90度\n",
    "t.fd(25) # 向前移动25\n",
    "t.seth(0) # 转换画笔的角度为0\n",
    "t.fd(10)\n",
    "t.pd()\n",
    "t.pencolor(255,155,192) # 设置画笔颜色\n",
    "t.seth(10)\n",
    "t.begin_fill()\n",
    "t.circle(5) # 画一个半径为5的圆\n",
    "t.color(160,82,45) # 设置画笔和填充颜色\n",
    "t.end_fill()\n",
    "t.pu()\n",
    "t.seth(0)\n",
    "t.fd(20)\n",
    "t.pd()\n",
    "t.pencolor(255,155,192)\n",
    "t.seth(10)\n",
    "t.begin_fill()\n",
    "t.circle(5)\n",
    "t.color(160,82,45)\n",
    "t.end_fill()\n",
    "#头\n",
    "t.color((255,155,192),\"pink\")\n",
    "t.pu()\n",
    "t.seth(90)\n",
    "t.fd(41)\n",
    "t.seth(0)\n",
    "t.fd(0)\n",
    "t.pd()\n",
    "t.begin_fill()\n",
    "t.seth(180)\n",
    "t.circle(300,-30) # 顺时针画一个半径为300,圆心角为30°的园\n",
    "t.circle(100,-60)\n",
    "t.circle(80,-100)\n",
    "t.circle(150,-20)\n",
    "t.circle(60,-95)\n",
    "t.seth(161)\n",
    "t.circle(-300,15)\n",
    "t.pu()\n",
    "t.goto(-100,100)\n",
    "t.pd()\n",
    "t.seth(-30)\n",
    "a=0.4\n",
    "for i in range(60):\n",
    "    if 0<=i<30 or 60<=i<90:\n",
    "        a=a+0.08\n",
    "        t.lt(3) #向左转3度\n",
    "        t.fd(a) #向前走a的步长\n",
    "    else:\n",
    "        a=a-0.08\n",
    "        t.lt(3)\n",
    "        t.fd(a)\n",
    "t.end_fill()\n",
    "#耳朵\n",
    "t.color((255,155,192),\"pink\")\n",
    "t.pu()\n",
    "t.seth(90)\n",
    "t.fd(-7)\n",
    "t.seth(0)\n",
    "t.fd(70)\n",
    "t.pd()\n",
    "t.begin_fill()\n",
    "t.seth(100)\n",
    "t.circle(-50,50)\n",
    "t.circle(-10,120)\n",
    "t.circle(-50,54)\n",
    "t.end_fill()\n",
    "t.pu()\n",
    "t.seth(90)\n",
    "t.fd(-12)\n",
    "t.seth(0)\n",
    "t.fd(30)\n",
    "t.pd()\n",
    "t.begin_fill()\n",
    "t.seth(100)\n",
    "t.circle(-50,50)\n",
    "t.circle(-10,120)\n",
    "t.circle(-50,56)\n",
    "t.end_fill()\n",
    "#眼睛\n",
    "t.color((255,155,192),\"white\")\n",
    "t.pu()\n",
    "t.seth(90)\n",
    "t.fd(-20)\n",
    "t.seth(0)\n",
    "t.fd(-95)\n",
    "t.pd()\n",
    "t.begin_fill()\n",
    "t.circle(15)\n",
    "t.end_fill()\n",
    "t.color(\"black\")\n",
    "t.pu()\n",
    "t.seth(90)\n",
    "t.fd(12)\n",
    "t.seth(0)\n",
    "t.fd(-3)\n",
    "t.pd()\n",
    "t.begin_fill()\n",
    "t.circle(3)\n",
    "t.end_fill()\n",
    "t.color((255,155,192),\"white\")\n",
    "t.pu()\n",
    "t.seth(90)\n",
    "t.fd(-25)\n",
    "t.seth(0)\n",
    "t.fd(40)\n",
    "t.pd()\n",
    "t.begin_fill()\n",
    "t.circle(15)\n",
    "t.end_fill()\n",
    "t.color(\"black\")\n",
    "t.pu()\n",
    "t.seth(90)\n",
    "t.fd(12)\n",
    "t.seth(0)\n",
    "t.fd(-3)\n",
    "t.pd()\n",
    "t.begin_fill()\n",
    "t.circle(3)\n",
    "t.end_fill()\n",
    "#腮\n",
    "t.color((255,155,192))\n",
    "t.pu()\n",
    "t.seth(90)\n",
    "t.fd(-95)\n",
    "t.seth(0)\n",
    "t.fd(65)\n",
    "t.pd()\n",
    "t.begin_fill()\n",
    "t.circle(30)\n",
    "t.end_fill()\n",
    "#嘴\n",
    "t.color(239,69,19)\n",
    "t.pu()\n",
    "t.seth(90)\n",
    "t.fd(15)\n",
    "t.seth(0)\n",
    "t.fd(-100)\n",
    "t.pd()\n",
    "t.seth(-80)\n",
    "t.circle(30,40)\n",
    "t.circle(40,80)\n",
    "#身体\n",
    "t.color(\"red\",(255,99,71))\n",
    "t.pu()\n",
    "t.seth(90)\n",
    "t.fd(-20)\n",
    "t.seth(0)\n",
    "t.fd(-78)\n",
    "t.pd()\n",
    "t.begin_fill()\n",
    "t.seth(-130)\n",
    "t.circle(100,10)\n",
    "t.circle(300,30)\n",
    "t.seth(0)\n",
    "t.fd(230)\n",
    "t.seth(90)\n",
    "t.circle(300,30)\n",
    "t.circle(100,3)\n",
    "t.color((255,155,192),(255,100,100))\n",
    "t.seth(-135)\n",
    "t.circle(-80,63)\n",
    "t.circle(-150,24)\n",
    "t.end_fill()\n",
    "#手\n",
    "t.color((255,155,192))\n",
    "t.pu()\n",
    "t.seth(90)\n",
    "t.fd(-40)\n",
    "t.seth(0)\n",
    "t.fd(-27)\n",
    "t.pd()\n",
    "t.seth(-160)\n",
    "t.circle(300,15)\n",
    "t.pu()\n",
    "t.seth(90)\n",
    "t.fd(15)\n",
    "t.seth(0)\n",
    "t.fd(0)\n",
    "t.pd()\n",
    "t.seth(-10)\n",
    "t.circle(-20,90)\n",
    "t.pu()\n",
    "t.seth(90)\n",
    "t.fd(30)\n",
    "t.seth(0)\n",
    "t.fd(237)\n",
    "t.pd()\n",
    "t.seth(-20)\n",
    "t.circle(-300,15)\n",
    "t.pu()\n",
    "t.seth(90)\n",
    "t.fd(20)\n",
    "t.seth(0)\n",
    "t.fd(0)\n",
    "t.pd()\n",
    "t.seth(-170)\n",
    "t.circle(20,90)\n",
    "#脚\n",
    "t.pensize(10)\n",
    "t.color((240,128,128))\n",
    "t.pu()\n",
    "t.seth(90)\n",
    "t.fd(-75)\n",
    "t.seth(0)\n",
    "t.fd(-180)\n",
    "t.pd()\n",
    "t.seth(-90)\n",
    "t.fd(40)\n",
    "t.seth(-180)\n",
    "t.color(\"black\")\n",
    "t.pensize(15)\n",
    "t.fd(20)\n",
    "t.pensize(10)\n",
    "t.color((240,128,128))\n",
    "t.pu()\n",
    "t.seth(90)\n",
    "t.fd(40)\n",
    "t.seth(0)\n",
    "t.fd(90)\n",
    "t.pd()\n",
    "t.seth(-90)\n",
    "t.fd(40)\n",
    "t.seth(-180)\n",
    "t.color(\"black\")\n",
    "t.pensize(15)\n",
    "t.fd(20)\n",
    "#尾巴\n",
    "t.pensize(4)\n",
    "t.color((255,155,192))\n",
    "t.pu()\n",
    "t.seth(90)\n",
    "t.fd(70)\n",
    "t.seth(0)\n",
    "t.fd(95)\n",
    "t.pd()\n",
    "t.seth(0)\n",
    "t.circle(70,20)\n",
    "t.circle(10,330)\n",
    "t.circle(70,30)"
   ]
  },
  {
   "cell_type": "markdown",
   "metadata": {},
   "source": [
    "## 列表的复制\n",
    "- copy 浅复制\n",
    "- deepcopy import copy  深复制\n",
    "- http://www.pythontutor.com/visualize.html#mode=edit"
   ]
  },
  {
   "cell_type": "code",
   "execution_count": null,
   "metadata": {},
   "outputs": [],
   "source": []
  },
  {
   "cell_type": "markdown",
   "metadata": {},
   "source": [
    "## 列表排序\n",
    "- sort\n",
    "- sorted\n",
    "- 列表的多级排序\n",
    "    - 匿名函数"
   ]
  },
  {
   "cell_type": "markdown",
   "metadata": {},
   "source": [
    "## EP：\n",
    "- 手动排序该列表[5,3,8,0,17]，以升序或者降序"
   ]
  },
  {
   "cell_type": "markdown",
   "metadata": {},
   "source": [
    "- 1\n",
    "![](../Photo/121.png)"
   ]
  },
  {
   "cell_type": "code",
   "execution_count": 1,
   "metadata": {},
   "outputs": [
    {
     "name": "stdout",
     "output_type": "stream",
     "text": [
      ">>40\n",
      ">>50\n",
      ">>60\n",
      ">>70\n",
      "C\n",
      "B\n",
      "A\n",
      "A\n"
     ]
    }
   ],
   "source": [
    "scores = []\n",
    "for i in range(4):\n",
    "    s = eval(input('>>'))\n",
    "    scores.append(s)\n",
    "mnum = max(scores)\n",
    "for i in scores:\n",
    "    if i >= mnum-10:\n",
    "        print('A')\n",
    "    elif i>=mnum-20:\n",
    "        print('B')\n",
    "    elif i >= mnum-30:\n",
    "        print('C')\n",
    "    elif i>=mnum-40:\n",
    "        print('D')\n",
    "    else:\n",
    "        print('F')"
   ]
  },
  {
   "cell_type": "markdown",
   "metadata": {},
   "source": [
    "- 2\n",
    "![](../Photo/122.png)"
   ]
  },
  {
   "cell_type": "code",
   "execution_count": 3,
   "metadata": {},
   "outputs": [
    {
     "name": "stdout",
     "output_type": "stream",
     "text": [
      ">>2 3 4\n",
      "[4, 3, 2]\n"
     ]
    }
   ],
   "source": [
    "a = []\n",
    "a = input('>>').split(' ')\n",
    "numbers = list(map(int, a))\n",
    "numbers.reverse()\n",
    "print(numbers)"
   ]
  },
  {
   "cell_type": "markdown",
   "metadata": {},
   "source": [
    "- 3\n",
    "![](../Photo/123.png)"
   ]
  },
  {
   "cell_type": "code",
   "execution_count": 4,
   "metadata": {},
   "outputs": [
    {
     "name": "stdout",
     "output_type": "stream",
     "text": [
      ">>2 5 6 5 4 3 23 43 2\n",
      "2 2\n",
      "3 1\n",
      "4 1\n",
      "5 2\n",
      "6 1\n",
      "23 1\n",
      "43 1\n"
     ]
    }
   ],
   "source": [
    "i = 1\n",
    "nums = {}\n",
    "while i<101:\n",
    "    nums[i] = 0\n",
    "    i+=1\n",
    "a = []\n",
    "a = input('>>').split(' ')\n",
    "numbers = list(map(int, a))\n",
    "for i in numbers:\n",
    "    nums[i] += 1\n",
    "for i in range(1,101):\n",
    "    if nums[i]!=0:\n",
    "        print(i,nums[i])"
   ]
  },
  {
   "cell_type": "markdown",
   "metadata": {},
   "source": [
    "- 4\n",
    "![](../Photo/124.png)"
   ]
  },
  {
   "cell_type": "code",
   "execution_count": 5,
   "metadata": {},
   "outputs": [
    {
     "name": "stdout",
     "output_type": "stream",
     "text": [
      ">>1 2 3 4 5\n",
      "大于等于平均 3\n",
      "小于平均 2\n"
     ]
    }
   ],
   "source": [
    "a = []\n",
    "a = input('>>').split(' ')\n",
    "numbers = list(map(int, a))\n",
    "mean = sum(numbers) / len(numbers)\n",
    "bn = 0\n",
    "ln = 0\n",
    "for i in numbers:\n",
    "    if i>=mean:\n",
    "        bn+=1\n",
    "    else:\n",
    "        ln+=1\n",
    "print('大于等于平均',bn)\n",
    "print('小于平均',ln)"
   ]
  },
  {
   "cell_type": "markdown",
   "metadata": {},
   "source": [
    "- 5\n",
    "![](../Photo/125.png)"
   ]
  },
  {
   "cell_type": "code",
   "execution_count": 16,
   "metadata": {},
   "outputs": [
    {
     "name": "stdout",
     "output_type": "stream",
     "text": [
      "0: 95 1: 101 2: 103 3: 99 4: 100 5: 104 6: 91 7: 113 8: 85 9: 109\n"
     ]
    }
   ],
   "source": [
    "import random\n",
    "randn = []\n",
    "for i in range(1000):\n",
    "    n = random.randint(0,9)\n",
    "    randn.append(n)\n",
    "print('0:',randn.count(0),'1:',randn.count(1),'2:',randn.count(2),'3:',randn.count(3),'4:',randn.count(4),'5:',randn.count\n",
    "      (5),'6:',randn.count(6),'7:',randn.count(7),'8:',randn.count(8),'9:',randn.count(9))"
   ]
  },
  {
   "cell_type": "markdown",
   "metadata": {},
   "source": [
    "- 6\n",
    "![](../Photo/126.png)"
   ]
  },
  {
   "cell_type": "code",
   "execution_count": 13,
   "metadata": {},
   "outputs": [
    {
     "name": "stdout",
     "output_type": "stream",
     "text": [
      ">>1 2 3 1 1\n"
     ]
    },
    {
     "data": {
      "text/plain": [
       "0"
      ]
     },
     "execution_count": 13,
     "metadata": {},
     "output_type": "execute_result"
    }
   ],
   "source": [
    "def indexOfSmallestElement(lst):\n",
    "    small = min(lst)\n",
    "    cs = lst.count(small)\n",
    "    if cs>1:\n",
    "        return lst.index(small)\n",
    "a = []\n",
    "a = input('>>').split(' ')\n",
    "numbers = list(map(int,a))\n",
    "indexOfSmallestElement(numbers)"
   ]
  },
  {
   "cell_type": "markdown",
   "metadata": {},
   "source": [
    "- 7\n",
    "![](../Photo/127.png)\n",
    "![](../Photo/128.png)"
   ]
  },
  {
   "cell_type": "code",
   "execution_count": 8,
   "metadata": {},
   "outputs": [
    {
     "name": "stdout",
     "output_type": "stream",
     "text": [
      ">>2 3 4 5\n",
      "[4, 2, 5, 3]\n"
     ]
    }
   ],
   "source": [
    "import random\n",
    "def shuffle(lst):\n",
    "    b = []\n",
    "    while len(lst)!=0:\n",
    "        n = random.randint(0,len(lst)-1)\n",
    "        c = numbers.pop(n)\n",
    "        b.append(c)\n",
    "    print(b)\n",
    "a = []\n",
    "a = input('>>').split(' ')\n",
    "numbers = list(map(int, a))\n",
    "shuffle(numbers)"
   ]
  },
  {
   "cell_type": "markdown",
   "metadata": {},
   "source": [
    "- 8\n",
    "![](../Photo/129.png)"
   ]
  },
  {
   "cell_type": "code",
   "execution_count": 9,
   "metadata": {},
   "outputs": [
    {
     "name": "stdout",
     "output_type": "stream",
     "text": [
      ">>1 2 3 2 1 6 3 4 5 2\n"
     ]
    },
    {
     "data": {
      "text/plain": [
       "[1, 2, 3, 4, 5, 6]"
      ]
     },
     "execution_count": 9,
     "metadata": {},
     "output_type": "execute_result"
    }
   ],
   "source": [
    "def eliminateDuplicates(lst):\n",
    "    return list(set(lst))\n",
    "a = []\n",
    "a = input('>>').split(' ')\n",
    "numbers = list(map(int, a))\n",
    "eliminateDuplicates(numbers)"
   ]
  },
  {
   "cell_type": "markdown",
   "metadata": {},
   "source": [
    "- 9\n",
    "![](../Photo/130.png)"
   ]
  },
  {
   "cell_type": "code",
   "execution_count": 10,
   "metadata": {},
   "outputs": [
    {
     "name": "stdout",
     "output_type": "stream",
     "text": [
      ">>1 1 3 4 4 5 7 9 10 30 11\n",
      "no\n"
     ]
    }
   ],
   "source": [
    "def isSorted(lst):\n",
    "    n = 0\n",
    "    for i in range(len(lst)-1):\n",
    "        if lst[i+1]>=lst[i]:\n",
    "            n+=1\n",
    "    if n== len(lst)-1:\n",
    "        print('yes')\n",
    "    else:\n",
    "        print('no')\n",
    "a = []\n",
    "a = input('>>').split(' ')\n",
    "numbers = list(map(int, a))\n",
    "isSorted(numbers)"
   ]
  },
  {
   "cell_type": "markdown",
   "metadata": {},
   "source": [
    "- 10\n",
    "![](../Photo/131.png)"
   ]
  },
  {
   "cell_type": "code",
   "execution_count": 11,
   "metadata": {},
   "outputs": [
    {
     "name": "stdout",
     "output_type": "stream",
     "text": [
      ">>2 3 4 2323 45 54\n"
     ]
    },
    {
     "data": {
      "text/plain": [
       "[2, 3, 4, 45, 54, 2323]"
      ]
     },
     "execution_count": 11,
     "metadata": {},
     "output_type": "execute_result"
    }
   ],
   "source": [
    "def bubbleSort(nums):\n",
    "    for i in range(len(nums)-1):    \n",
    "        for j in range(len(nums)-i-1):  \n",
    "            if nums[j] > nums[j+1]:\n",
    "                nums[j], nums[j+1] = nums[j+1], nums[j]\n",
    "    return nums\n",
    "a = []\n",
    "a = input('>>').split(' ')\n",
    "numbers = list(map(int, a))\n",
    "bubbleSort(numbers)"
   ]
  },
  {
   "cell_type": "markdown",
   "metadata": {},
   "source": [
    "- 11\n",
    "![](../Photo/132.png)"
   ]
  },
  {
   "cell_type": "markdown",
   "metadata": {},
   "source": [
    "- 12\n",
    "![](../Photo/133.png)"
   ]
  },
  {
   "cell_type": "code",
   "execution_count": 12,
   "metadata": {},
   "outputs": [
    {
     "name": "stdout",
     "output_type": "stream",
     "text": [
      ">>3 3 3 3 1 1 2\n",
      "Yes\n"
     ]
    }
   ],
   "source": [
    "def isConsecutiveFour(values):\n",
    "    if len(values)>=4:\n",
    "        for i in range(len(values)-3):\n",
    "            if values[i]==values[i+1]==values[i+2]==values[i+3]:\n",
    "                print('Yes')\n",
    "                break\n",
    "        else:\n",
    "            print('No')\n",
    "                \n",
    "    else:\n",
    "        print('No')\n",
    "a = []\n",
    "a = input('>>').split(' ')\n",
    "numbers = list(map(int, a))\n",
    "isConsecutiveFour(numbers)"
   ]
  },
  {
   "cell_type": "code",
   "execution_count": null,
   "metadata": {},
   "outputs": [],
   "source": []
  }
 ],
 "metadata": {
  "kernelspec": {
   "display_name": "Python 3",
   "language": "python",
   "name": "python3"
  },
  "language_info": {
   "codemirror_mode": {
    "name": "ipython",
    "version": 3
   },
   "file_extension": ".py",
   "mimetype": "text/x-python",
   "name": "python",
   "nbconvert_exporter": "python",
   "pygments_lexer": "ipython3",
   "version": "3.6.4"
  }
 },
 "nbformat": 4,
 "nbformat_minor": 2
}
