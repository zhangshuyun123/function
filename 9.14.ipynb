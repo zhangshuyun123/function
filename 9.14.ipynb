{
 "cells": [
  {
   "cell_type": "markdown",
   "metadata": {},
   "source": [
    "# 函数\n",
    "\n",
    "- 函数可以用来定义可重复代码，组织和简化\n",
    "- 一般来说一个函数在实际开发中为一个小功能\n",
    "- 一个类为一个大功能\n",
    "- 同样函数的长度不要超过一屏"
   ]
  },
  {
   "cell_type": "markdown",
   "metadata": {},
   "source": [
    "## 定义一个函数\n",
    "\n",
    "def function_name(list of parameters):\n",
    "    \n",
    "    do something\n",
    "![](../Photo/69.png)\n",
    "- 以前使用的random 或者range 或者print.. 其实都是函数或者类"
   ]
  },
  {
   "cell_type": "code",
   "execution_count": 11,
   "metadata": {},
   "outputs": [
    {
     "name": "stdout",
     "output_type": "stream",
     "text": [
      "输入数字：5\n",
      "5是一个奇数\n"
     ]
    }
   ],
   "source": [
    "def jiou():\n",
    "    '''\n",
    "    判断一个数是奇数还是偶数\n",
    "    '''\n",
    "    n = eval(input('输入数字：'))\n",
    "    if n % 2 == 0:\n",
    "        print(str(n) + '是一个偶数')\n",
    "    else:\n",
    "        print(str(n) + '是一个奇数')\n",
    "jiou()"
   ]
  },
  {
   "cell_type": "code",
   "execution_count": 19,
   "metadata": {},
   "outputs": [
    {
     "name": "stdout",
     "output_type": "stream",
     "text": [
      "2\n",
      "3\n",
      "5\n",
      "7\n",
      "11\n",
      "13\n",
      "17\n",
      "19\n",
      "23\n",
      "29\n",
      "31\n",
      "37\n",
      "41\n",
      "43\n",
      "47\n"
     ]
    }
   ],
   "source": [
    "def sushu():\n",
    "    i = 0\n",
    "    j = 0\n",
    "    for i in range(2,51):\n",
    "        for j in range (2,i):\n",
    "            if i % j == 0:\n",
    "                break\n",
    "        else:\n",
    "            print(i)\n",
    "sushu()"
   ]
  },
  {
   "cell_type": "code",
   "execution_count": 24,
   "metadata": {},
   "outputs": [
    {
     "name": "stdout",
     "output_type": "stream",
     "text": [
      "输入数字：10\n",
      "10是一个偶数\n"
     ]
    }
   ],
   "source": [
    "def duo():\n",
    "    def jiou():\n",
    "        '''\n",
    "        判断一个数是奇数还是偶数\n",
    "        '''\n",
    "        n = eval(input('输入数字：'))\n",
    "        if n % 2 == 0:\n",
    "            print(str(n) + '是一个偶数')\n",
    "        else:\n",
    "            print(str(n) + '是一个奇数')\n",
    "    jiou()\n",
    "    def sushu():\n",
    "        for i in range(2,51):\n",
    "            for j in range (2,i):\n",
    "                if i % j == 0:\n",
    "                    break\n",
    "            else:\n",
    "                print(i)\n",
    "    sushu()\n",
    "duo()"
   ]
  },
  {
   "cell_type": "code",
   "execution_count": 26,
   "metadata": {},
   "outputs": [],
   "source": [
    "# import OS\n",
    "# def kuajiang(name):#函数的传参\n",
    "#     os.system('say {}今天天真好'.forment(name))\n",
    "# kuajiang('123')#位置参数 不非参数名传递方式\n",
    "# kuajiang(name= '张三')"
   ]
  },
  {
   "cell_type": "code",
   "execution_count": null,
   "metadata": {},
   "outputs": [],
   "source": []
  },
  {
   "cell_type": "markdown",
   "metadata": {},
   "source": [
    "## 调用一个函数\n",
    "- functionName()\n",
    "- \"()\" 就代表调用"
   ]
  },
  {
   "cell_type": "markdown",
   "metadata": {},
   "source": [
    "![](../Photo/70.png)"
   ]
  },
  {
   "cell_type": "markdown",
   "metadata": {},
   "source": [
    "## 带返回值和不带返回值的函数\n",
    "- return 返回的内容\n",
    "- return 返回多个值\n",
    "- 一般情况下，在多个函数协同完成一个功能的时候，那么将会有返回值"
   ]
  },
  {
   "cell_type": "markdown",
   "metadata": {},
   "source": [
    "![](../Photo/71.png)\n",
    "\n",
    "- 当然也可以自定义返回None"
   ]
  },
  {
   "cell_type": "markdown",
   "metadata": {},
   "source": [
    "## EP：\n",
    "![](../Photo/72.png)"
   ]
  },
  {
   "cell_type": "markdown",
   "metadata": {},
   "source": [
    "## 类型和关键字参数\n",
    "- 普通参数\n",
    "- 多个参数\n",
    "- 默认值参数\n",
    "- 不定长参数"
   ]
  },
  {
   "cell_type": "markdown",
   "metadata": {},
   "source": [
    "## 普通参数"
   ]
  },
  {
   "cell_type": "code",
   "execution_count": 29,
   "metadata": {},
   "outputs": [
    {
     "name": "stdout",
     "output_type": "stream",
     "text": [
      "10000\n"
     ]
    }
   ],
   "source": [
    "def y(x):\n",
    "    return x ** 2\n",
    "y_ = y(100) \n",
    "print(y_)"
   ]
  },
  {
   "cell_type": "code",
   "execution_count": 32,
   "metadata": {},
   "outputs": [
    {
     "name": "stdout",
     "output_type": "stream",
     "text": [
      "39\n"
     ]
    }
   ],
   "source": [
    "def cha(x,y):\n",
    "    cha_ = 0\n",
    "    x = x ** 3\n",
    "    y = y ** 2\n",
    "    cha_ = x - y\n",
    "    return cha_\n",
    "cha_ =cha (4,5)\n",
    "print(cha_)"
   ]
  },
  {
   "cell_type": "code",
   "execution_count": 34,
   "metadata": {},
   "outputs": [
    {
     "name": "stdout",
     "output_type": "stream",
     "text": [
      "sss10\n",
      "900\n"
     ]
    }
   ],
   "source": [
    "def two(number):\n",
    "    return number ** 2\n",
    "def three(number):\n",
    "    return number ** 3\n",
    "def shuru():\n",
    "    number = eval(input('sss:'))\n",
    "    res3 = three(number)\n",
    "    res2 = two(number)\n",
    "    print(three(number) - two(number))\n",
    "shuru()"
   ]
  },
  {
   "cell_type": "markdown",
   "metadata": {},
   "source": [
    "## 多个参数"
   ]
  },
  {
   "cell_type": "markdown",
   "metadata": {},
   "source": [
    "## 默认值参数"
   ]
  },
  {
   "cell_type": "code",
   "execution_count": 1,
   "metadata": {},
   "outputs": [],
   "source": [
    "\n",
    "def denglu(username = '111',password = '222'):\n",
    "    username1 = input('输入用户名：')\n",
    "    password1 = input('输入密码：')\n",
    "    if username1 == username and password1 == password:\n",
    "        print('登录成功')\n",
    "    else:\n",
    "        print('登录失败,账号或密码错误')\n",
    "# denglu()"
   ]
  },
  {
   "cell_type": "code",
   "execution_count": 2,
   "metadata": {},
   "outputs": [],
   "source": [
    "is_ok = False\n",
    "def qidong():\n",
    "    global is_ok\n",
    "    if is_ok == False:\n",
    "        print('是否7天免登陆?y/n')\n",
    "        res = input('>>')\n",
    "        if res == 'y':\n",
    "            denglu()\n",
    "            is_ok = True\n",
    "        else:\n",
    "            denglu()\n",
    "    else:\n",
    "        print('登录成功')\n"
   ]
  },
  {
   "cell_type": "code",
   "execution_count": 5,
   "metadata": {},
   "outputs": [
    {
     "name": "stdout",
     "output_type": "stream",
     "text": [
      "登录成功\n"
     ]
    }
   ],
   "source": [
    "qidong()"
   ]
  },
  {
   "cell_type": "markdown",
   "metadata": {},
   "source": [
    "## 强制命名"
   ]
  },
  {
   "cell_type": "code",
   "execution_count": null,
   "metadata": {},
   "outputs": [],
   "source": [
    "'''\n",
    "def test(*,name1,name2,name3):  #表示 *，后面的参数强制命名\n",
    "test(name1,name2,name3)   #在调用函数是必须加参数名\n",
    "'''"
   ]
  },
  {
   "cell_type": "markdown",
   "metadata": {},
   "source": [
    "## 不定长参数\n",
    "- \\*args\n",
    "> - 不定长，来多少装多少，不装也是可以的\n",
    "  - 返回的数据类型是元组\n",
    "  - args 名字是可以修改的，只是我们约定俗成的是args\n",
    "- \\**kwargs \n",
    "> - 返回的字典\n",
    "  - 输入的一定要是表达式（键值对）\n",
    "- name,\\*args,name2,\\**kwargs  使用参数名"
   ]
  },
  {
   "cell_type": "markdown",
   "metadata": {},
   "source": [
    "## 变量的作用域\n",
    "- 局部变量 local\n",
    "- 全局变量 global\n",
    "- globals 函数返回一个全局变量的字典，包括所有导入的变量\n",
    "- locals() 函数会以字典类型返回当前位置的全部局部变量。"
   ]
  },
  {
   "cell_type": "markdown",
   "metadata": {},
   "source": [
    "## 注意：\n",
    "- global ：在进行赋值操作的时候需要声明\n",
    "- 官方解释：This is because when you make an assignment to a variable in a scope, that variable becomes local to that scope and shadows any similarly named variable in the outer scope.\n",
    "- ![](../Photo/73.png)"
   ]
  },
  {
   "cell_type": "markdown",
   "metadata": {},
   "source": [
    "# Homework\n",
    "- 1\n",
    "![](../Photo/74.png)"
   ]
  },
  {
   "cell_type": "code",
   "execution_count": 91,
   "metadata": {},
   "outputs": [
    {
     "name": "stdout",
     "output_type": "stream",
     "text": [
      "1 \t 5 \t 12 \t 22 \t 35 \t 51 \t 70 \t 92 \t 117 \t 145 \t \n",
      "176 \t 210 \t 247 \t 287 \t 330 \t 376 \t 425 \t 477 \t 532 \t 590 \t \n",
      "651 \t 715 \t 782 \t 852 \t 925 \t 1001 \t 1080 \t 1162 \t 1247 \t 1335 \t \n",
      "1426 \t 1520 \t 1617 \t 1717 \t 1820 \t 1926 \t 2035 \t 2147 \t 2262 \t 2380 \t \n",
      "2501 \t 2625 \t 2752 \t 2882 \t 3015 \t 3151 \t 3290 \t 3432 \t 3577 \t 3725 \t \n",
      "3876 \t 4030 \t 4187 \t 4347 \t 4510 \t 4676 \t 4845 \t 5017 \t 5192 \t 5370 \t \n",
      "5551 \t 5735 \t 5922 \t 6112 \t 6305 \t 6501 \t 6700 \t 6902 \t 7107 \t 7315 \t \n",
      "7526 \t 7740 \t 7957 \t 8177 \t 8400 \t 8626 \t 8855 \t 9087 \t 9322 \t 9560 \t \n",
      "9801 \t 10045 \t 10292 \t 10542 \t 10795 \t 11051 \t 11310 \t 11572 \t 11837 \t 12105 \t \n",
      "12376 \t 12650 \t 12927 \t 13207 \t 13490 \t 13776 \t 14065 \t 14357 \t 14652 \t 14950 \t \n"
     ]
    }
   ],
   "source": [
    "n = 0\n",
    "def getPentagonalNumber(n):\n",
    "    n = 0\n",
    "    i = 1\n",
    "    count = 0\n",
    "    for i in range(1,101):\n",
    "        n = i * (3 * i - 1) // 2\n",
    "        print(n,'\\t',end=' ')\n",
    "        count = count + 1\n",
    "        if count % 10 == 0:\n",
    "            print( )\n",
    "getPentagonalNumber(n)"
   ]
  },
  {
   "cell_type": "markdown",
   "metadata": {},
   "source": [
    "- 2 \n",
    "![](../Photo/75.png)"
   ]
  },
  {
   "cell_type": "code",
   "execution_count": 90,
   "metadata": {},
   "outputs": [
    {
     "name": "stdout",
     "output_type": "stream",
     "text": [
      "输入数字： 234\n",
      "9\n"
     ]
    }
   ],
   "source": [
    "def sumDigits(n):\n",
    "    n = eval(input('输入数字： '))\n",
    "    k = 0\n",
    "    sum_ = 0\n",
    "    while n > 0:\n",
    "        k = n % 10\n",
    "        sum_ = sum_ + k\n",
    "        n = n // 10\n",
    "    print(sum_)\n",
    "sumDigits(n)"
   ]
  },
  {
   "cell_type": "markdown",
   "metadata": {},
   "source": [
    "- 3\n",
    "![](../Photo/76.png)"
   ]
  },
  {
   "cell_type": "code",
   "execution_count": 8,
   "metadata": {},
   "outputs": [
    {
     "name": "stdout",
     "output_type": "stream",
     "text": [
      "输入三个整数：1,9,3\n",
      "这三个数按升序排列为： 1,3,9\n"
     ]
    }
   ],
   "source": [
    "def displaySortedNumbers(a,b,c):\n",
    "    a,b,c = eval(input('输入三个整数：'))\n",
    "    max_ = max(a,b,c)\n",
    "    if max_ == a:\n",
    "        max1_ = max(b,c)\n",
    "        if max1_ == b:\n",
    "            print('这三个数按升序排列为： ' + str(c) + ',' + str(b) + ',' + str(a))\n",
    "        elif max1_ == c:\n",
    "            print('这三个数按升序排列为： ' + str(b) + ',' + str(c) + ',' + str(a))\n",
    "    elif max_ == b:\n",
    "        max1_ = max(a,c)\n",
    "        if max1_ == a:\n",
    "            print('这三个数按升序排列为： ' + str(c) + ',' + str(a) + ',' + str(b))\n",
    "        elif max1_ == c:\n",
    "            print('这三个数按升序排列为： ' + str(a) + ',' + str(c) + ',' + str(b))\n",
    "    elif max_ == c:\n",
    "        max1_ = max(a,b)\n",
    "        if max1_ == a:\n",
    "            print('这三个数按升序排列为： ' + str(b) + ',' + str(a) + ',' + str(c))\n",
    "        elif max1_ == b:\n",
    "            print('这三个数按升序排列为： ' + str(a) + ',' + str(b) + ',' + str(c))\n",
    "displaySortedNumbers(a,b,c)"
   ]
  },
  {
   "cell_type": "markdown",
   "metadata": {},
   "source": [
    "- 4\n",
    "![](../Photo/77.png)"
   ]
  },
  {
   "cell_type": "code",
   "execution_count": 37,
   "metadata": {},
   "outputs": [
    {
     "name": "stdout",
     "output_type": "stream",
     "text": [
      "The amount invested: 1000\n",
      "Annual interest rate: 9\n",
      "Years     Future Value\n",
      "\n",
      "1\t    1090.0\n",
      "2\t    1188.1\n",
      "3\t    1295.029\n",
      "4\t    1411.58161\n",
      "5\t    1538.6239549\n",
      "6\t    1677.100110841\n",
      "7\t    1828.03912081669\n",
      "8\t    1992.562641690192\n",
      "9\t    2171.8932794423094\n",
      "10\t    2367.363674592117\n",
      "11\t    2580.4264053054076\n",
      "12\t    2812.6647817828944\n",
      "13\t    3065.804612143355\n",
      "14\t    3341.7270272362566\n",
      "15\t    3642.4824596875196\n",
      "16\t    3970.3058810593966\n",
      "17\t    4327.633410354742\n",
      "18\t    4717.120417286669\n",
      "19\t    5141.661254842469\n",
      "20\t    5604.410767778291\n",
      "21\t    6108.807736878338\n",
      "22\t    6658.600433197388\n",
      "23\t    7257.874472185153\n",
      "24\t    7911.083174681817\n",
      "25\t    8623.08066040318\n",
      "26\t    9399.157919839467\n",
      "27\t    10245.082132625019\n",
      "28\t    11167.139524561271\n",
      "29\t    12172.182081771785\n",
      "30\t    13267.678469131246"
     ]
    }
   ],
   "source": [
    "def futureInvestmentValue(amount,rate,years):\n",
    "    amount = eval(input('The amount invested: '))\n",
    "    rate = eval(input('Annual interest rate: '))\n",
    "    years = 30\n",
    "    i = 1\n",
    "    print('Years'+'     Future Value')\n",
    "    while i < 31:\n",
    "        amount += amount * (round(rate / 12,2) * 12 /100)\n",
    "        print()\n",
    "        print(str(i) + '\\t    '+ str(amount),end='')\n",
    "        i = i + 1\n",
    "futureInvestmentValue(amount,rate,years)"
   ]
  },
  {
   "cell_type": "markdown",
   "metadata": {},
   "source": [
    "- 5\n",
    "![](../Photo/78.png)"
   ]
  },
  {
   "cell_type": "code",
   "execution_count": 45,
   "metadata": {},
   "outputs": [
    {
     "name": "stdout",
     "output_type": "stream",
     "text": [
      "输入开始字符1\n",
      "输入结束字符Z\n",
      "1 2 3 4 5 6 7 8 9 : \n",
      "; < = > ? @ A B C D \n",
      "E F G H I J K L M N \n",
      "O P Q R S T U V W X \n",
      "Y Z "
     ]
    }
   ],
   "source": [
    "ch1 = ''\n",
    "ch2 = ''\n",
    "numberPerLine = 0\n",
    "\n",
    "def printChars(ch1,ch2,numberPerLine):\n",
    "    ch1 = input('输入开始字符')\n",
    "    ch2 = input('输入结束字符')\n",
    "    ch1_1 = ord(ch1)\n",
    "    ch2_1 = ord(ch2)\n",
    "    numberPerLine = ch2_1 - ch1_1\n",
    "    ch = ''\n",
    "    count = 0\n",
    "    for i in range(ch1_1,ch2_1+1):\n",
    "        ch = chr(i)\n",
    "        i += 1\n",
    "        count += 1\n",
    "        print(ch,end=' ')\n",
    "        if count % 10 == 0:\n",
    "            print('')\n",
    "printChars(ch1,ch2,numberPerLine)"
   ]
  },
  {
   "cell_type": "markdown",
   "metadata": {},
   "source": [
    "- 6\n",
    "![](../Photo/79.png)"
   ]
  },
  {
   "cell_type": "code",
   "execution_count": 49,
   "metadata": {},
   "outputs": [
    {
     "name": "stdout",
     "output_type": "stream",
     "text": [
      "2010 年这一年共 365 天\n",
      "2011 年这一年共 365 天\n",
      "2012 年这一年共 366 天\n",
      "2013 年这一年共 365 天\n",
      "2014 年这一年共 365 天\n",
      "2015 年这一年共 365 天\n",
      "2016 年这一年共 366 天\n",
      "2017 年这一年共 365 天\n",
      "2018 年这一年共 365 天\n",
      "2019 年这一年共 365 天\n",
      "2020 年这一年共 366 天\n"
     ]
    }
   ],
   "source": [
    "def numberOfDaysInAYear(year):\n",
    "    days = 0\n",
    "    for year in range(2010,2021):\n",
    "        if year % 4 == 0 and year % 100 != 0 or year % 400 == 0:\n",
    "            days = 366\n",
    "        else:\n",
    "            days = 365\n",
    "        print(str(year) + ' 年这一年共 ' + str(days) + ' 天')\n",
    "numberOfDaysInAYear(year)"
   ]
  },
  {
   "cell_type": "markdown",
   "metadata": {},
   "source": [
    "- 7\n",
    "![](../Photo/80.png)"
   ]
  },
  {
   "cell_type": "code",
   "execution_count": 51,
   "metadata": {},
   "outputs": [
    {
     "name": "stdout",
     "output_type": "stream",
     "text": [
      "输入第一个点的坐标： 0,1\n",
      "输入第二个点的坐标： 0,4\n",
      "3.0\n"
     ]
    }
   ],
   "source": [
    "import math\n",
    "def distance():\n",
    "    x1,y1 = eval(input('输入第一个点的坐标： '))\n",
    "    x2,y2 = eval(input('输入第二个点的坐标： '))\n",
    "    d = math.sqrt((x1 - x2)**2+(y1 - y2) ** 2)\n",
    "    print('这两点间距为：' + str(d))\n",
    "distance()"
   ]
  },
  {
   "cell_type": "markdown",
   "metadata": {},
   "source": [
    "- 8\n",
    "![](../Photo/81.png)"
   ]
  },
  {
   "cell_type": "code",
   "execution_count": 14,
   "metadata": {},
   "outputs": [
    {
     "name": "stdout",
     "output_type": "stream",
     "text": [
      "P  (2^p - 1)\n",
      "2    3\n",
      "3    7\n",
      "5    31\n"
     ]
    }
   ],
   "source": [
    "def fun_():\n",
    "    i = 0\n",
    "    j = 0\n",
    "    print('P' + '  (2^p - 1)')\n",
    "    for i in range(2,101):\n",
    "        for j in range(2,i):\n",
    "            if i % j == 0:\n",
    "                break\n",
    "        else:\n",
    "\n",
    "            for p in range(1,32):\n",
    "                if i == 2**p -1:\n",
    "                    print(str(p)+'    '+ str(i))\n",
    "                    p =p+1\n",
    "                else:\n",
    "                    p=p+1\n",
    "fun_()"
   ]
  },
  {
   "cell_type": "markdown",
   "metadata": {},
   "source": [
    "- 9\n",
    "![](../Photo/82.png)\n",
    "![](../Photo/83.png)"
   ]
  },
  {
   "cell_type": "code",
   "execution_count": 12,
   "metadata": {},
   "outputs": [
    {
     "name": "stdout",
     "output_type": "stream",
     "text": [
      "Fri Sep 14 17:39:03 2018\n"
     ]
    }
   ],
   "source": [
    "import time\n",
    "print(time.asctime(time.localtime(time.time()))) "
   ]
  },
  {
   "cell_type": "markdown",
   "metadata": {},
   "source": [
    "- 10\n",
    "![](../Photo/84.png)"
   ]
  },
  {
   "cell_type": "code",
   "execution_count": 13,
   "metadata": {},
   "outputs": [
    {
     "name": "stdout",
     "output_type": "stream",
     "text": [
      "You rolled 3 + 6 = 9\n",
      "You win\n",
      "\n"
     ]
    }
   ],
   "source": [
    "import random\n",
    "num1 = random.randint(1,6)\n",
    "num2 = random.randint(1,6)\n",
    "sum_ = num1 + num2\n",
    "print('You rolled '+ str(num1) + ' + ' + str(num2)+' = '+str(sum_))\n",
    "if sum_ == 2 or sum_ == 3 or sum_ == 12:\n",
    "    print('You lose')\n",
    "elif sum_ == 7 or sum_ == 11:\n",
    "    print('You win')\n",
    "else:\n",
    "    num3 = random.randint(1,6)\n",
    "    num4 = random.randint(1,6)\n",
    "    sum1_ = num1 + num2\n",
    "    if sum1_  == 7:\n",
    "        print('You lose')\n",
    "    elif sum1_ == sum_:\n",
    "        print('You win')\n",
    "    print()"
   ]
  },
  {
   "cell_type": "markdown",
   "metadata": {},
   "source": [
    "- 11 \n",
    "### 去网上寻找如何用Python代码发送邮件"
   ]
  },
  {
   "cell_type": "code",
   "execution_count": null,
   "metadata": {},
   "outputs": [],
   "source": []
  }
 ],
 "metadata": {
  "kernelspec": {
   "display_name": "Python 3",
   "language": "python",
   "name": "python3"
  },
  "language_info": {
   "codemirror_mode": {
    "name": "ipython",
    "version": 3
   },
   "file_extension": ".py",
   "mimetype": "text/x-python",
   "name": "python",
   "nbconvert_exporter": "python",
   "pygments_lexer": "ipython3",
   "version": "3.6.4"
  }
 },
 "nbformat": 4,
 "nbformat_minor": 2
}
