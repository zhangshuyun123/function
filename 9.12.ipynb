{
 "cells": [
  {
   "cell_type": "code",
   "execution_count": 9,
   "metadata": {},
   "outputs": [],
   "source": [
    "# import itchat\n",
    "\n",
    "\n",
    "# itchat.auto_login(hotReload=True)\n",
    "# itchat.dump_login_status()\n",
    "\n",
    "# friends = itchat.get_friends(update=True)[:]\n",
    "# total = len(friends) - 1\n",
    "# man = women = other = 0\n",
    "\n",
    "# for friend in friends[0:] :\n",
    "#     sex = friend[\"Sex\"]\n",
    "#     if sex == 1 :\n",
    "#         man += 1\n",
    "#     elif sex == 2 :\n",
    "#         women += 1\n",
    "#     else :\n",
    "#         other += 1\n",
    "\n",
    "# print(\"男性好友：%.2f%%\" % (float(man) / total * 100))\n",
    "# print(\"女性好友：%.2f%%\" % (float(women) / total * 100))\n",
    "# print(\"其他：%.2f%%\" % (float(other) / total * 100))"
   ]
  },
  {
   "cell_type": "markdown",
   "metadata": {},
   "source": [
    "# 选择\n",
    "## 布尔类型、数值和表达式\n",
    "![](../Photo/33.png)\n",
    "- 注意：比较运算符的相等是两个等到，一个等到代表赋值\n",
    "- 在Python中可以用整型0来代表False，其他数字来代表True\n",
    "- 后面还会讲到 is 在判断语句中的用发"
   ]
  },
  {
   "cell_type": "code",
   "execution_count": 3,
   "metadata": {},
   "outputs": [
    {
     "name": "stdout",
     "output_type": "stream",
     "text": [
      "输入成绩： 59\n",
      "59不及格\n"
     ]
    }
   ],
   "source": [
    "number = eval(input('输入成绩： '))\n",
    "if 0 < number < 60:\n",
    "    print(str(number) + '不及格')\n",
    "elif 60 <= number < 80:\n",
    "    print(str(number) + ' C')\n",
    "elif 80 <= number < 90:\n",
    "    print(str(number) + ' B')\n",
    "elif 90 <= number <=100:\n",
    "    print(str(number) + ' A')"
   ]
  },
  {
   "cell_type": "code",
   "execution_count": 1,
   "metadata": {},
   "outputs": [
    {
     "name": "stdout",
     "output_type": "stream",
     "text": [
      "再次输入猜测的数字1\n",
      "猜对了，这个随机数为 1\n"
     ]
    }
   ],
   "source": [
    "#猜随机数\n",
    "import random\n",
    "code = random.randint(1,5)\n",
    "while True:\n",
    "    sz = eval(input('再次输入猜测的数字'))\n",
    "    if sz > code :\n",
    "        print('输入的值大于随机数请重新输入') \n",
    "    elif sz < code:\n",
    "         print('输入的值小于随机数请重新输入')\n",
    "    else:\n",
    "        print('猜对了，这个随机数为 ' + str(sz))\n",
    "        break"
   ]
  },
  {
   "cell_type": "markdown",
   "metadata": {},
   "source": [
    "## 字符串的比较使用ASCII值"
   ]
  },
  {
   "cell_type": "markdown",
   "metadata": {},
   "source": [
    "## Markdown \n",
    "- https://github.com/younghz/Markdown"
   ]
  },
  {
   "cell_type": "markdown",
   "metadata": {},
   "source": [
    "## EP:\n",
    "- <img src=\"../Photo/34.png\"></img>\n",
    "- 输入一个数字，判断其实奇数还是偶数"
   ]
  },
  {
   "cell_type": "markdown",
   "metadata": {},
   "source": [
    "## 产生随机数字\n",
    "- 函数random.randint(a,b) 可以用来产生一个a和b之间且包括a和b的随机整数"
   ]
  },
  {
   "cell_type": "markdown",
   "metadata": {},
   "source": [
    "##  其他random方法\n",
    "- random.random 返回0.0到1.0之间前闭后开区间的随机浮点\n",
    "- random.randrange(a,b) 前闭后开"
   ]
  },
  {
   "cell_type": "markdown",
   "metadata": {},
   "source": [
    "## EP：\n",
    "- 产生两个随机整数number1和number2，然后显示给用户，使用户输入数字的和，并判定其是否正确\n",
    "- 进阶:写一个随机序号点名程序"
   ]
  },
  {
   "cell_type": "code",
   "execution_count": 1,
   "metadata": {},
   "outputs": [
    {
     "name": "stdout",
     "output_type": "stream",
     "text": [
      "第一个数字为：11  ，第二个数字为 9\n",
      "输入这两个数的和 1\n",
      "这都算不对\n",
      "输入这两个数的和 20\n",
      "算对了\n"
     ]
    }
   ],
   "source": [
    "import random\n",
    "number1 = random.randint(0,20)\n",
    "number2 = random.randint(0,20)\n",
    "sum_ = number1 + number2\n",
    "print('第一个数字为：' + str(number1),' ，第二个数字为 ' + str(number2))\n",
    "while True:\n",
    "    he = eval(input('输入这两个数的和 '))\n",
    "    if he == sum_:\n",
    "        print('算对了')\n",
    "        break\n",
    "    else:\n",
    "        print('这都算不对')\n"
   ]
  },
  {
   "cell_type": "code",
   "execution_count": 8,
   "metadata": {},
   "outputs": [
    {
     "name": "stdout",
     "output_type": "stream",
     "text": [
      "005\n"
     ]
    }
   ],
   "source": [
    "import random\n",
    "names=['001','002','003','004','005','006','007']\n",
    "index= random.randint(0,len(names)-1)\n",
    "print(names[index])"
   ]
  },
  {
   "cell_type": "markdown",
   "metadata": {},
   "source": [
    "## if语句\n",
    "- 如果条件正确就执行一个单向if语句，亦即当条件为真的时候才执行if内部的语句\n",
    "- Python有很多选择语句:\n",
    "> - 单向if \n",
    "  - 双向if-else\n",
    "  - 嵌套if\n",
    "  - 多向if-elif-else\n",
    "  \n",
    "- 注意：当语句含有子语句的时候，那么一定至少要有一个缩进，也就是说如果有儿子存在，那么一定要缩进\n",
    "- 切记不可tab键和space混用，单用tab 或者 space\n",
    "- 当你输出的结果是无论if是否为真时都需要显示时，语句应该与if对齐"
   ]
  },
  {
   "cell_type": "markdown",
   "metadata": {},
   "source": [
    "## EP：\n",
    "- 用户输入一个数字，判断其实奇数还是偶数\n",
    "- 进阶：可以查看下4.5实例研究猜生日"
   ]
  },
  {
   "cell_type": "code",
   "execution_count": 5,
   "metadata": {},
   "outputs": [
    {
     "name": "stdout",
     "output_type": "stream",
     "text": [
      "输入一个数字 5\n",
      "这是一个奇数\n"
     ]
    }
   ],
   "source": [
    "number = eval(input('输入一个数字 '))\n",
    "if number % 2 == 0:\n",
    "    print('这是一个偶数')\n",
    "else:\n",
    "    print('这是一个奇数')"
   ]
  },
  {
   "cell_type": "code",
   "execution_count": 7,
   "metadata": {},
   "outputs": [
    {
     "name": "stdout",
     "output_type": "stream",
     "text": [
      "输入年龄 20\n",
      "输入面貌 好\n",
      "输入收入高\n",
      "输入工作 公务员\n",
      "见\n"
     ]
    }
   ],
   "source": [
    "age = eval(input('输入年龄 '))\n",
    "if age <= 30:\n",
    "    mianmao = input('输入面貌 ')\n",
    "    if mianmao == '好':\n",
    "        shouru = input('输入收入')\n",
    "        if shouru == '高':\n",
    "            gongzuo = input('输入工作 ')\n",
    "            if gongzuo == '公务员':\n",
    "                print('见')\n",
    "            else:\n",
    "                print('不见')\n",
    "        else:\n",
    "             print('不见')\n",
    "    else:\n",
    "         print('不见')\n",
    "else :\n",
    "    print('不见')"
   ]
  },
  {
   "cell_type": "markdown",
   "metadata": {},
   "source": [
    "## 双向if-else 语句\n",
    "- 如果条件为真，那么走if内部语句，否则走else内部语句"
   ]
  },
  {
   "cell_type": "markdown",
   "metadata": {},
   "source": [
    "## EP：\n",
    "- 产生两个随机整数number1和number2，然后显示给用户，使用户输入数字，并判定其是否正确,如果正确打印“you‘re correct”，否则打印正确错误"
   ]
  },
  {
   "cell_type": "markdown",
   "metadata": {},
   "source": [
    "## 嵌套if 和多向if-elif-else\n",
    "![](../Photo/35.png)"
   ]
  },
  {
   "cell_type": "code",
   "execution_count": 10,
   "metadata": {},
   "outputs": [
    {
     "name": "stdout",
     "output_type": "stream",
     "text": [
      "输入一个年份 1996\n",
      "鼠\n"
     ]
    }
   ],
   "source": [
    "year = eval(input('输入一个年份 '))\n",
    "a = year % 12\n",
    "if a == 0:\n",
    "    animal = '猴'\n",
    "    print(animal)\n",
    "elif a==1:\n",
    "    animal = '鸡'\n",
    "    print(animal)\n",
    "elif a==2:\n",
    "    animal = '狗'\n",
    "    print(animal)\n",
    "elif a==3:\n",
    "    animal = '猪'\n",
    "    print(animal)\n",
    "elif a==4:\n",
    "    animal = '鼠'\n",
    "    print(animal)\n",
    "elif a==5:\n",
    "    animal = '牛'\n",
    "    print(animal)\n",
    "elif a==6:\n",
    "    anima7 = '虎'\n",
    "    print(animal)\n",
    "elif a==7:\n",
    "    anima = '兔'\n",
    "    print(animal)\n",
    "elif a==8:\n",
    "    anima = '龙'\n",
    "    print(animal)\n",
    "elif a==9:\n",
    "    anima = '蛇'\n",
    "    print(animal)\n",
    "elif a==10:\n",
    "    animal = '马'\n",
    "    print(animal)\n",
    "else:\n",
    "    animal = '羊'\n",
    "    print(animal)"
   ]
  },
  {
   "cell_type": "markdown",
   "metadata": {},
   "source": [
    "## EP：\n",
    "- 提示用户输入一个年份，然后显示表示这一年的动物\n",
    "![](../Photo/36.png)\n",
    "- 计算身体质量指数的程序\n",
    "- BMI = 以千克为单位的体重除以以米为单位的身高\n",
    "![](../Photo/37.png)"
   ]
  },
  {
   "cell_type": "code",
   "execution_count": 15,
   "metadata": {},
   "outputs": [
    {
     "name": "stdout",
     "output_type": "stream",
     "text": [
      "输入身高，单位（米）： 1.75\n",
      "输入体重，单位（kg）： 60\n",
      "BMI值为19.591836734693878 这是标准BMI\n"
     ]
    }
   ],
   "source": [
    "shenggao = eval(input('输入身高，单位（米）： '))\n",
    "tizhong = eval(input('输入体重，单位（kg）： '))\n",
    "BMI = tizhong / (shenggao ** 2)\n",
    "if BMI < 18.5:\n",
    "    print('BMI值为' + str(BMI) + ' 超轻，该增肥了')\n",
    "elif 18.5 <= BMI < 25.0:\n",
    "    print('BMI值为' + str(BMI) + ' 这是标准BMI')\n",
    "elif 25.0 <= BMI < 30.0:\n",
    "    print('BMI值为' + str(BMI) + ' 超重了，该控制饮食了')\n",
    "elif 30.0 <= BMI:\n",
    "    print('BMI值为' + str(BMI) + ' 痴肥')"
   ]
  },
  {
   "cell_type": "markdown",
   "metadata": {},
   "source": [
    "## 逻辑运算符\n",
    "![](../Photo/38.png)"
   ]
  },
  {
   "cell_type": "markdown",
   "metadata": {},
   "source": [
    "![](../Photo/39.png)\n",
    "![](../Photo/40.png)"
   ]
  },
  {
   "cell_type": "code",
   "execution_count": 17,
   "metadata": {},
   "outputs": [
    {
     "name": "stdout",
     "output_type": "stream",
     "text": [
      "输入要判断的年份 2018\n",
      "2018年，不是闰年\n"
     ]
    }
   ],
   "source": [
    "year = eval(input('输入要判断的年份 '))\n",
    "if year % 4 == 0 and year % 100 != 0 or year % 400 == 0:\n",
    "    print(str(year) + '年，是闰年')\n",
    "else:\n",
    "     print(str(year) + '年，不是闰年')"
   ]
  },
  {
   "cell_type": "markdown",
   "metadata": {},
   "source": [
    "## EP：\n",
    "- 判定闰年：一个年份如果能被4整除但不能被100整除，或者能被400整除，那么这个年份就是闰年\n",
    "- 提示用户输入一个年份，并返回是否是闰年\n",
    "- 提示用户输入一个数字，判断其是否为水仙花数"
   ]
  },
  {
   "cell_type": "code",
   "execution_count": 49,
   "metadata": {},
   "outputs": [
    {
     "name": "stdout",
     "output_type": "stream",
     "text": [
      "输入要判断的整数： 153\n",
      "这是一个水仙数\n"
     ]
    }
   ],
   "source": [
    "number = eval(input('输入要判断的整数： '))\n",
    "i = 0\n",
    "a = number\n",
    "he = 0\n",
    "while number > 0:\n",
    "    i = number % 10\n",
    "    number = number // 10\n",
    "    he = he + i ** 3\n",
    "if he == a:\n",
    "    print('这是一个水仙数')\n",
    "else:\n",
    "    print('这不是一个水仙数')"
   ]
  },
  {
   "cell_type": "markdown",
   "metadata": {},
   "source": [
    "## 实例研究：彩票\n",
    "![](../Photo/41.png)"
   ]
  },
  {
   "cell_type": "code",
   "execution_count": 64,
   "metadata": {},
   "outputs": [
    {
     "name": "stdout",
     "output_type": "stream",
     "text": [
      "15\n",
      "输入买的彩票号 15\n",
      "5\n",
      "恭喜你中了一等奖10000美元\n"
     ]
    }
   ],
   "source": [
    "# import random\n",
    "# kaijiang = random.randint(10,99)\n",
    "# print(kaijiang)\n",
    "# a = 0\n",
    "# b = 0\n",
    "# a1 = 0\n",
    "# b1 = 0\n",
    "# a = kaijiang % 10\n",
    "# b = kaijiang - a * 10\n",
    "# caipiao = eval(input('输入买的彩票号 '))\n",
    "# a1 = caipiao % 10\n",
    "# b1 = caipiao - a1 * 10\n",
    "# if a1 == a and b1 == b:\n",
    "#     print('恭喜你中了一等奖10000美元')\n",
    "# elif a1 == b and b1 == a:\n",
    "#     print('恭喜你中了二等奖3000美元')\n",
    "# elif a1 == a or a1 == b or b1 == a or b1 == b:\n",
    "#     print('恭喜你中了三等奖1000美元')\n",
    "# else:\n",
    "#     print('不好意思，未中奖，祝下次好运')"
   ]
  },
  {
   "cell_type": "code",
   "execution_count": 7,
   "metadata": {},
   "outputs": [
    {
     "name": "stdout",
     "output_type": "stream",
     "text": [
      "42\n",
      "输入数字56\n",
      "未中奖，祝下次好运\n"
     ]
    }
   ],
   "source": [
    "import random\n",
    "random1 = random.randint(0,9)\n",
    "random2 = random.randint(0,9)\n",
    "number = str(random1) + str(random2)\n",
    "print(number)\n",
    "num = eval(input('输入数字'))\n",
    "num1 = str(num // 10)\n",
    "num2 = str(num % 10)\n",
    "num_ = num1 + num2\n",
    "if number[0] == num_[0] and number[1] == num_[1]:\n",
    "    print('恭喜你中了一等奖10000美元')\n",
    "elif number[0] == num_[1] and number[1] == num_[0]:\n",
    "    print('恭喜你中了二等奖3000美元')\n",
    "elif num_[0] == number[0] or num_[0] == number[1] or num_[1] == number[0] or num_[1] == number[1]:\n",
    "    print('恭喜你中了三等奖1000美元')\n",
    "else:\n",
    "    print('未中奖，祝下次好运')"
   ]
  },
  {
   "cell_type": "markdown",
   "metadata": {},
   "source": [
    "# Homework\n",
    "- 1\n",
    "![](../Photo/42.png)"
   ]
  },
  {
   "cell_type": "code",
   "execution_count": 12,
   "metadata": {},
   "outputs": [
    {
     "name": "stdout",
     "output_type": "stream",
     "text": [
      "Enter a,b,c 1.0,3,1\n",
      "这个一元二次方程为：1.0x² +3x + 1= 0\n",
      "The roots are -0.381966 and -2.618034\n"
     ]
    }
   ],
   "source": [
    "import math\n",
    "a,b,c = eval(input('Enter a,b,c '))\n",
    "print('这个一元二次方程为：' + str(a) + 'x² +' + str(b) + 'x + ' + str(c) + '= 0')\n",
    "pd = b ** 2 - 4 * a * c\n",
    "if pd > 0:\n",
    "    r1 = (-b + math.sqrt(pd)) / 2 * a\n",
    "    r2 = (-b - math.sqrt(pd)) / 2 * a\n",
    "    print('The roots are ' + str(round(r1,6)) + ' and ' + str(round(r2,6)))\n",
    "elif pd == 0:\n",
    "    r = (-b) / 2 * a\n",
    "    print('The root is ' + str(round(r,6)))\n",
    "elif pd < 0:\n",
    "    print('The equation has no real roots')"
   ]
  },
  {
   "cell_type": "markdown",
   "metadata": {},
   "source": [
    "- 2\n",
    "![](../Photo/43.png)"
   ]
  },
  {
   "cell_type": "code",
   "execution_count": 15,
   "metadata": {},
   "outputs": [
    {
     "name": "stdout",
     "output_type": "stream",
     "text": [
      "The first number is 64\n",
      "The first second is 26\n",
      "输入这两个数字的和 90\n",
      "计算结果为真\n"
     ]
    }
   ],
   "source": [
    "import random\n",
    "number1 = random.randint(0,99)\n",
    "print('The first number is ' + str(number1))\n",
    "number2 = random.randint(0,99)\n",
    "print('The first second is ' + str(number2))\n",
    "sum_ = number1 + number2\n",
    "people_sum = eval(input('输入这两个数字的和 '))\n",
    "if people_sum == sum_:\n",
    "    print('计算结果为真')\n",
    "else:\n",
    "    print('计算结果错误')"
   ]
  },
  {
   "cell_type": "markdown",
   "metadata": {},
   "source": [
    "- 3\n",
    "![](../Photo/44.png)"
   ]
  },
  {
   "cell_type": "code",
   "execution_count": 20,
   "metadata": {},
   "outputs": [
    {
     "name": "stdout",
     "output_type": "stream",
     "text": [
      "Enter today is day 1\n",
      "Enter the number od days elapsed since today: 3\n",
      "Today is Mondeyand the future is Thursday\n"
     ]
    }
   ],
   "source": [
    "today = eval(input('Enter today is day '))\n",
    "after = eval(input('Enter the number od days elapsed since today: '))\n",
    "future = (today + after) % 7\n",
    "xinqi = ''\n",
    "if today == 0:\n",
    "    xingqi = 'Sunday'\n",
    "elif today == 1:\n",
    "    xingqi = 'Mondey'\n",
    "elif today == 2:\n",
    "    xingqi = 'Tuesday'\n",
    "elif today == 3:\n",
    "    xingqi = 'Wednesday'\n",
    "elif today == 4:\n",
    "    xingqi = 'Thursday'\n",
    "elif today == 5:\n",
    "    xingqi = 'Friday'\n",
    "elif today == 6:\n",
    "    xingqi = 'Saturday'\n",
    "if future == 0:\n",
    "    fxingqi = 'Sunday'\n",
    "elif future == 1:\n",
    "    fxingqi = 'Mondey'\n",
    "elif future == 2:\n",
    "    fxingqi = 'Tuesday'\n",
    "elif future == 3:\n",
    "    f = 'Wednesday'\n",
    "elif future == 4:\n",
    "    fxingqi = 'Thursday'\n",
    "elif future == 5:\n",
    "    fxingqi = 'Friday'\n",
    "elif future == 6:\n",
    "    fxingqi = 'Saturday'\n",
    "print('Today is ' + xingqi + 'and the future is ' + fxingqi)"
   ]
  },
  {
   "cell_type": "markdown",
   "metadata": {},
   "source": [
    "- 4\n",
    "![](../Photo/45.png)"
   ]
  },
  {
   "cell_type": "code",
   "execution_count": 22,
   "metadata": {},
   "outputs": [
    {
     "name": "stdout",
     "output_type": "stream",
     "text": [
      "输入三个整数：2,1,3\n",
      "这三个数按升序排列为： 1,2,3\n"
     ]
    }
   ],
   "source": [
    "a,b,c = eval(input('输入三个整数：'))\n",
    "max_ = max(a,b,c)\n",
    "if max_ == a:\n",
    "    max1_ = max(b,c)\n",
    "    if max1_ == b:\n",
    "        print('这三个数按升序排列为： ' + str(c) + ',' + str(b) + ',' + str(a))\n",
    "    elif max1_ == c:\n",
    "        print('这三个数按升序排列为： ' + str(b) + ',' + str(c) + ',' + str(a))\n",
    "elif max_ == b:\n",
    "    max1_ = max(a,c)\n",
    "    if max1_ == a:\n",
    "        print('这三个数按升序排列为： ' + str(c) + ',' + str(a) + ',' + str(b))\n",
    "    elif max1_ == c:\n",
    "        print('这三个数按升序排列为： ' + str(a) + ',' + str(c) + ',' + str(b))\n",
    "elif max_ == c:\n",
    "    max1_ = max(a,b)\n",
    "    if max1_ == a:\n",
    "        print('这三个数按升序排列为： ' + str(b) + ',' + str(a) + ',' + str(c))\n",
    "    elif max1_ == b:\n",
    "        print('这三个数按升序排列为： ' + str(a) + ',' + str(b) + ',' + str(c))"
   ]
  },
  {
   "cell_type": "markdown",
   "metadata": {},
   "source": [
    "- 5\n",
    "![](../Photo/46.png)"
   ]
  },
  {
   "cell_type": "code",
   "execution_count": 28,
   "metadata": {},
   "outputs": [
    {
     "name": "stdout",
     "output_type": "stream",
     "text": [
      "Enter weight and price for package 1: 50,24.59\n",
      "Enter weight and price for package 2: 25,11.99\n",
      "Package 2 has the batter price.\n"
     ]
    }
   ],
   "source": [
    "weight1,price1 = eval(input('Enter weight and price for package 1: '))\n",
    "weight2,price2 = eval(input('Enter weight and price for package 2: '))\n",
    "danjia1 = price1 / weight1\n",
    "danjia2 = price2 / weight2 \n",
    "if danjia1 < danjia2:\n",
    "    print('Package 1 has the better price.')\n",
    "elif danjia1 == danjia2:\n",
    "    print('NO package better price.')\n",
    "else :\n",
    "    print('Package 2 has the better price.')"
   ]
  },
  {
   "cell_type": "markdown",
   "metadata": {},
   "source": [
    "- 6\n",
    "![](../Photo/47.png)"
   ]
  },
  {
   "cell_type": "code",
   "execution_count": 72,
   "metadata": {},
   "outputs": [
    {
     "name": "stdout",
     "output_type": "stream",
     "text": [
      "输入要判断的年份： 2000\n",
      "输入要判断的月份： 2\n",
      "2000年，是闰年\n",
      "这个月有29天\n"
     ]
    }
   ],
   "source": [
    "year = eval(input('输入要判断的年份： '))\n",
    "mouth = eval(input('输入要判断的月份： '))\n",
    "if year % 4 == 0 and year % 100 != 0 or year % 400 == 0:\n",
    "    print(str(year) + '年，是闰年')\n",
    "    if mouth == 1 or mouth == 3 or mouth == 5 or mouth == 7 or mouth == 8 or mouth == 10 or mouth == 12:\n",
    "        print('这个月有31天')\n",
    "    elif mouth == 4 or mouth == 6 or mouth == 9 or mouth == 11:\n",
    "        print('这个月有30天')\n",
    "    elif mouth == 2:\n",
    "        print('这个月有29天')\n",
    "    else:\n",
    "        print('请输入正确的月份')\n",
    "else:\n",
    "    \n",
    "    print(str(year) + '年，不是闰年')\n",
    "    if mouth == 1 or mouth == 3 or mouth == 5 or mouth == 7 or mouth == 8 or mouth == 10 or mouth == 12:\n",
    "        print('这个月有31天')\n",
    "    elif mouth == 4 or mouth == 6 or mouth == 9 or mouth == 11:\n",
    "        print('这个月有30天')\n",
    "    elif mouth == 2:\n",
    "        print('这个月有28天')\n",
    "    else:\n",
    "        print('请输入正确的月份')"
   ]
  },
  {
   "cell_type": "markdown",
   "metadata": {},
   "source": [
    "- 7\n",
    "![](../Photo/48.png)"
   ]
  },
  {
   "cell_type": "code",
   "execution_count": 1,
   "metadata": {},
   "outputs": [
    {
     "name": "stdout",
     "output_type": "stream",
     "text": [
      "正\n",
      "输入正或反：正\n",
      "正\n",
      "猜对了\n"
     ]
    }
   ],
   "source": [
    "import random\n",
    "random_ = random.choice(['正','反'])\n",
    "print(random_)\n",
    "choose = input('输入正或反：')\n",
    "if random_ == choose:\n",
    "    print('猜对了')\n",
    "else:\n",
    "    print('猜错了')"
   ]
  },
  {
   "cell_type": "markdown",
   "metadata": {},
   "source": [
    "- 8\n",
    "![](../Photo/49.png)"
   ]
  },
  {
   "cell_type": "code",
   "execution_count": 79,
   "metadata": {},
   "outputs": [
    {
     "name": "stdout",
     "output_type": "stream",
     "text": [
      "2\n",
      "scissor(0),rock(1),paper(2): 0\n",
      "The computer is paper.You are scissor.You WIN\n"
     ]
    }
   ],
   "source": [
    "import random\n",
    "random_ = random.randint(0,2)\n",
    "print(random_)\n",
    "number = eval(input('scissor(0),rock(1),paper(2): '))\n",
    "if random_ == 0:\n",
    "    if number == 0:\n",
    "        print('The computer is scissor.You are scissor.It is a drpw')\n",
    "    elif number == 1:\n",
    "        print('The computer is scissor.You are rock .You WIN')\n",
    "    elif number == 2:\n",
    "         print('The computer is scissor.You are rock .You LOOSE')\n",
    "    else:\n",
    "        print('请输入正确的数字')\n",
    "elif random_ == 1:\n",
    "    if number == 0:\n",
    "        print('The computer is rock.You are scissor.It is a LOOSE')\n",
    "    elif number == 1:\n",
    "        print('The computer is rock.You are rock .It is a drpw')\n",
    "    elif number == 2:\n",
    "         print('The computer is rock.You are rock .You Win')\n",
    "    else:\n",
    "        print('请输入一个正确的数字')\n",
    "elif random_ == 2:\n",
    "    if number == 0:\n",
    "        print('The computer is paper.You are scissor.You WIN')\n",
    "    elif number == 1:\n",
    "        print('The computer is paper.You are rock .You loose')\n",
    "    elif number == 2:\n",
    "         print('The computer is paper.You are rock .It is a drpw')\n",
    "    else:\n",
    "        print('请输入一个正确的数字')\n",
    "else:\n",
    "    print('请输入一个正确的数字')"
   ]
  },
  {
   "cell_type": "markdown",
   "metadata": {},
   "source": [
    "- 9\n",
    "![](../Photo/50.png)"
   ]
  },
  {
   "cell_type": "code",
   "execution_count": 93,
   "metadata": {},
   "outputs": [
    {
     "name": "stdout",
     "output_type": "stream",
     "text": [
      "Enter year: 2013\n",
      "Enter month: 1\n",
      "Enter the day of the ,mouth: 25\n",
      "Day of the week is Friday\n"
     ]
    }
   ],
   "source": [
    "year = eval(input('Enter year: '))\n",
    "mouth = eval(input('Enter month: '))\n",
    "day = eval(input('Enter the day of the ,mouth: '))\n",
    "h = round((day + (26 * (mouth + 1)) / 10 + year % 100 + year % 100 / 4 + year / 100 / 4 + 5 * (year / 100))) % 7\n",
    "xingqi = ''\n",
    "if h == 0:\n",
    "    xingqi = 'Sunday'\n",
    "elif h == 1:\n",
    "    xingqi = 'Mondey'\n",
    "elif h == 2:\n",
    "    xingqi = 'Tuesday'\n",
    "elif h == 3:\n",
    "    xingqi = 'Wednesday'\n",
    "elif h == 4:\n",
    "    xingqi = 'Thursday'\n",
    "elif h == 5:\n",
    "    xingqi = 'Friday'\n",
    "elif h == 6:\n",
    "    xingqi = 'Saturday'\n",
    "print('Day of the week is '+ xingqi)"
   ]
  },
  {
   "cell_type": "markdown",
   "metadata": {},
   "source": [
    "- 10\n",
    "![](../Photo/51.png)"
   ]
  },
  {
   "cell_type": "code",
   "execution_count": 112,
   "metadata": {},
   "outputs": [
    {
     "name": "stdout",
     "output_type": "stream",
     "text": [
      "Heart Jack\n",
      "The card you picked is the Jack of ♥\n"
     ]
    }
   ],
   "source": [
    "import random\n",
    "# A = ['♥','♠','♣','♦']\n",
    "A = ['Heart','heitao','meihua','fangpian']\n",
    "B = ['Ace','2','3','4','5','6,','7','8','9','Jack','Queen','King']\n",
    "random1 = random.choice(A)\n",
    "random2 = random.choice(B)\n",
    "print(random1,random2)\n",
    "if random1 is 'Heart':\n",
    "    if random2 is 'Ace':\n",
    "        print('The card you picked is the Ace of ♥')\n",
    "    elif random2 is '2':\n",
    "        print('The card you picked is the 2 of ♥')\n",
    "    elif random2 is '3':\n",
    "        print('The card you picked is the 3 of ♥')\n",
    "    elif random2 is '4':\n",
    "        print('The card you picked is the 4 of ♥')\n",
    "    elif random2 is '5':\n",
    "        print('The card you picked is the 5 of ♥')\n",
    "    elif random2 is '6':\n",
    "        print('The card you picked is the 6 of ♥')\n",
    "    elif random2 is '7':\n",
    "        print('The card you picked is the 7 of ♥')\n",
    "    elif random2 is '8':\n",
    "        print('The card you picked is the 8 of ♥')\n",
    "    elif random2 is '9':\n",
    "        print('The card you picked is the 9 of ♥')\n",
    "    elif random2 is '10':\n",
    "        print('The card you picked is the 10 of ♥')\n",
    "    elif random2 is 'Jack':\n",
    "        print('The card you picked is the Jack of ♥')\n",
    "    elif random2 is 'Queen':\n",
    "        print('The card you picked is the Queen of ♥')\n",
    "    elif random2 is 'King':\n",
    "        print('The card you picked is the King of ♥')\n",
    "elif random1 is 'heitao':\n",
    "    if random2 is 'Ace':\n",
    "        print('The card you picked is the Ace of ♠')\n",
    "    elif random2 is '2':\n",
    "        print('The card you picked is the 2 of ♠')\n",
    "    elif random2 is '3':\n",
    "        print('The card you picked is the 3 of ♠')\n",
    "    elif random2 is '4':\n",
    "        print('The card you picked is the 4 of ♠')\n",
    "    elif random2 is '5':\n",
    "        print('The card you picked is the 5 of ♠')\n",
    "    elif random2 is '6':\n",
    "        print('The card you picked is the 6 of ♠')\n",
    "    elif random2 is '7':\n",
    "        print('The card you picked is the 7 of ♠')\n",
    "    elif random2 is '8':\n",
    "        print('The card you picked is the 8 of ♠')\n",
    "    elif random2 is '9':\n",
    "        print('The card you picked is the 9 of ♠')\n",
    "    elif random2 is '10':\n",
    "        print('The card you picked is the 10 of ♠')\n",
    "    elif random2 is 'Jack':\n",
    "        print('The card you picked is the Jack of ♠')\n",
    "    elif random2 is 'Queen':\n",
    "        print('The card you picked is the Queen of ♠')\n",
    "    elif random2 is 'King':\n",
    "        print('The card you picked is the King of ♠')\n",
    "elif random1 is 'fangpain':\n",
    "    if random2 is 'Ace':\n",
    "        print('The card you picked is the Ace of ♦')\n",
    "    elif random2 is '2':\n",
    "        print('The card you picked is the 2 of ♦')\n",
    "    elif random2 is '3':\n",
    "        print('The card you picked is the 3 of ♦')\n",
    "    elif random2 is '4':\n",
    "        print('The card you picked is the 4 of ♦')\n",
    "    elif random2 is '5':\n",
    "        print('The card you picked is the 5 of ♦')\n",
    "    elif random2 is '6':\n",
    "        print('The card you picked is the 6 of ♦')\n",
    "    elif random2 is '7':\n",
    "        print('The card you picked is the 7 of ♦')\n",
    "    elif random2 is '8':\n",
    "        print('The card you picked is the 8 of ♦')\n",
    "    elif random2 is '9':\n",
    "        print('The card you picked is the 9 of ♦')\n",
    "    elif random2 is '10':\n",
    "        print('The card you picked is the 10 of ♦')\n",
    "    elif random2 is 'Jack':\n",
    "        print('The card you picked is the Jack of ♦')\n",
    "    elif random2 is 'Queen':\n",
    "        print('The card you picked is the Queen of ♦')\n",
    "    elif random2 is 'King':\n",
    "        print('The card you picked is the King of ♦')\n",
    "elif random1 is 'meihua':\n",
    "    if random2 is 'Ace':\n",
    "        print('The card you picked is the Ace of ♣')\n",
    "    elif random2 is '2':\n",
    "        print('The card you picked is the 2 of ♣')\n",
    "    elif random2 is '3':\n",
    "        print('The card you picked is the 3 of ♣')\n",
    "    elif random2 is '4':\n",
    "        print('The card you picked is the 4 of ♣')\n",
    "    elif random2 is '5':\n",
    "        print('The card you picked is the 5 of ♣')\n",
    "    elif random2 is '6':\n",
    "        print('The card you picked is the 6 of ♣')\n",
    "    elif random2 is '7':\n",
    "        print('The card you picked is the 7 of ♣')\n",
    "    elif random2 is '8':\n",
    "        print('The card you picked is the 8 of ♣')\n",
    "    elif random2 is '9':\n",
    "        print('The card you picked is the 9 of ♣')\n",
    "    elif random2 is '10':\n",
    "        print('The card you picked is the 10 of ♣')\n",
    "    elif random2 is 'Jack':\n",
    "        print('The card you picked is the Jack of ♣')\n",
    "    elif random2 is 'Queen':\n",
    "        print('The card you picked is the Queen of ♣')\n",
    "    elif random2 is 'King':\n",
    "        print('The card you picked is the King of ♣')"
   ]
  },
  {
   "cell_type": "markdown",
   "metadata": {},
   "source": [
    "- 11\n",
    "![](../Photo/52.png)"
   ]
  },
  {
   "cell_type": "code",
   "execution_count": 98,
   "metadata": {},
   "outputs": [
    {
     "name": "stdout",
     "output_type": "stream",
     "text": [
      "请输入一个字符串：level\n",
      "输入的字符串是回文\n"
     ]
    }
   ],
   "source": [
    "s = input('请输入一个字符串：')\n",
    "a = len(s)\n",
    "i = 0\n",
    "count = 1    \n",
    "while i <= (a/2):\n",
    "    if s[i] == s[a-i-1]:\n",
    "        count = 1\n",
    "        i += 1\n",
    "    else:\n",
    "        count = 0\n",
    "        break\n",
    "\n",
    "if count == 1:\n",
    "    print('输入的字符串是回文')\n",
    "else:\n",
    "    print('输入的字符串不是回文')"
   ]
  },
  {
   "cell_type": "markdown",
   "metadata": {},
   "source": [
    "- 12\n",
    "![](../Photo/53.png)"
   ]
  },
  {
   "cell_type": "code",
   "execution_count": 96,
   "metadata": {},
   "outputs": [
    {
     "name": "stdout",
     "output_type": "stream",
     "text": [
      "输入三角形的三条边（a，b，c）：1,1,1\n",
      "The perimwter is 3\n"
     ]
    }
   ],
   "source": [
    "a,b,c = eval(input('输入三角形的三条边（a，b，c）：'))\n",
    "if a + b > c:\n",
    "    zc = a + b + c\n",
    "    print('The perimwter is '+ str(zc))\n",
    "elif a + c > b:\n",
    "    zc = a + b + c\n",
    "    print('The perimwter is' + str(zc))\n",
    "elif b + c > a:\n",
    "    zc = a + b + c\n",
    "    print('The perimwter is' + str(zc))\n",
    "else:\n",
    "    print('请输入正确的边长')\n",
    "    "
   ]
  }
 ],
 "metadata": {
  "kernelspec": {
   "display_name": "Python 3",
   "language": "python",
   "name": "python3"
  },
  "language_info": {
   "codemirror_mode": {
    "name": "ipython",
    "version": 3
   },
   "file_extension": ".py",
   "mimetype": "text/x-python",
   "name": "python",
   "nbconvert_exporter": "python",
   "pygments_lexer": "ipython3",
   "version": "3.6.4"
  }
 },
 "nbformat": 4,
 "nbformat_minor": 2
}
