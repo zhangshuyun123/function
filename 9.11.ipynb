{
 "cells": [
  {
   "cell_type": "markdown",
   "metadata": {},
   "source": [
    "# 数学函数、字符串和对象\n",
    "## 本章介绍Python函数来执行常见的数学运算\n",
    "- 函数是完成一个特殊任务的一组语句，可以理解为一个函数相当于一个小功能，但是在开发中，需要注意一个函数的长度最好不要超过一屏\n",
    "- Python中的内置函数是不需要Import导入的\n",
    "<img src=\"../Photo/15.png\"></img>"
   ]
  },
  {
   "cell_type": "code",
   "execution_count": 8,
   "metadata": {},
   "outputs": [
    {
     "name": "stdout",
     "output_type": "stream",
     "text": [
      "输入4个数字：1,2,3,4\n",
      "输入要进行的操作：pow\n",
      "30\n"
     ]
    }
   ],
   "source": [
    "a,b,c,d = eval(input('输入4个数字：'))\n",
    "cz = input('输入要进行的操作：')\n",
    "if cz == 'max':\n",
    "    zuida = max(a,b,c,d)\n",
    "    print('最大的数为： ' + str(zuida)\n",
    "elif cz == 'min':\n",
    "    zuixiao = min(a,b,c,d)\n",
    "    print(('最大的数为： ' + str(zuixiao)）\n",
    "elif cz == 'pow':\n",
    "    pow2_sum_ = pow(a,2) + pow(b,2) + pow(c,2) + pow(d,2)\n",
    "    print('和为： ' + str(pow2_sum_)）"
   ]
  },
  {
   "cell_type": "markdown",
   "metadata": {},
   "source": [
    "## 尝试练习Python内置函数"
   ]
  },
  {
   "cell_type": "markdown",
   "metadata": {},
   "source": [
    "## Python中的math模块提供了许多数学函数\n",
    "<img src=\"../Photo/16.png\"></img>\n",
    "<img src=\"../Photo/17.png\"></img>\n"
   ]
  },
  {
   "cell_type": "code",
   "execution_count": 3,
   "metadata": {},
   "outputs": [],
   "source": [
    "# # # 随机数 \n",
    "# # import random\n",
    "# # a = random.randint(0,1)\n",
    "# # b = round(a)\n",
    "# # if b = 0 :\n",
    "# #     print('猫')\n",
    "# # elif b = 1:\n",
    "#     print('狗')"
   ]
  },
  {
   "cell_type": "code",
   "execution_count": 1,
   "metadata": {},
   "outputs": [],
   "source": [
    "# import matplotlib.pyplot as plt\n",
    "# list_ = []\n",
    "# for b in range(-50,50):\n",
    "#     res = 1./ (1. + math.exp(-b))\n",
    "#     list_.append(res)\n",
    "# plt.plot(list_)\n",
    "# plt.show()"
   ]
  },
  {
   "cell_type": "code",
   "execution_count": 29,
   "metadata": {},
   "outputs": [
    {
     "data": {
      "text/plain": [
       "<matplotlib.image.AxesImage at 0x2940c29dbe0>"
      ]
     },
     "execution_count": 29,
     "metadata": {},
     "output_type": "execute_result"
    },
    {
     "data": {
      "image/png": "[encoded data removed]",
      "text/plain": [
       "<matplotlib.figure.Figure at 0x2940c2185f8>"
      ]
     },
     "metadata": {},
     "output_type": "display_data"
    }
   ],
   "source": [
    "import matplotlib.pyplot as plt\n",
    "image = plt.imread('../Photo/test.png')\n",
    "# print(image)\n",
    "# plt.imshow(image)\n",
    "plt.imshow(image / math.sin(120))"
   ]
  },
  {
   "cell_type": "markdown",
   "metadata": {},
   "source": [
    "## 两个数学常量PI和e，可以通过使用math.pi 和math.e调用"
   ]
  },
  {
   "cell_type": "markdown",
   "metadata": {},
   "source": [
    "## EP:\n",
    "- 通过math库，写一个程序，使得用户输入三个顶点(x,y)返回三个角度\n",
    "- 注意：Python计算角度为弧度制，需要将其转换为角度\n",
    "<img src=\"../Photo/18.png\">"
   ]
  },
  {
   "cell_type": "code",
   "execution_count": 19,
   "metadata": {},
   "outputs": [
    {
     "name": "stdout",
     "output_type": "stream",
     "text": [
      "请问输入第一个顶点的坐标（x，y）：0,0\n",
      "请问输入第二个顶点的坐标（x，y）：0,4\n",
      "请问输入第三个顶点的坐标（x，y）：3,0\n",
      "A的角度为： 53.13°\n",
      "B的角度为： 36.87°\n",
      "C的角度为： 90.0°\n"
     ]
    }
   ],
   "source": [
    "import math\n",
    "x1,y1 = eval(input('请问输入第一个顶点的坐标（x，y）：'))\n",
    "x2,y2 = eval(input('请问输入第二个顶点的坐标（x，y）：'))\n",
    "x3,y3 = eval(input('请问输入第三个顶点的坐标（x，y）：'))\n",
    "# 设A(x1,y1),B(x2,y2)，A,B距离 = √[(x1-x2)^2+(y1-y2)^2]\n",
    "a = math.sqrt(pow((x1-x2),2) + pow((y1-y2),2))\n",
    "b = math.sqrt(pow((x1-x3),2) + pow((y1-y3),2))\n",
    "c = math.sqrt(pow((x2-x3),2) + pow((y2-y3),2))\n",
    "A = math.acos((a * a - b * b - c * c) / (-2 * b * c))\n",
    "B = math.acos((b * b - a * a - c * c) / (-2 * a * c))\n",
    "C = math.acos((c * c - a * a - b * b) / (-2 * a * b))\n",
    "A1 = round(math.degrees(A),2)\n",
    "B1 = round(math.degrees(B),2)\n",
    "C1 = round(math.degrees(C),2)\n",
    "print('A的角度为： ' + str(A1) + '°')\n",
    "print('B的角度为： ' + str(B1) + '°')\n",
    "print('C的角度为： ' + str(C1) + '°')"
   ]
  },
  {
   "cell_type": "markdown",
   "metadata": {},
   "source": [
    "## 字符串和字符\n",
    "- 在Python中，字符串必须是在单引号或者双引号内，在多段换行的字符串中可以使用“”“\n",
    "- 在使用”“”时，给予其变量则变为字符串，否则当多行注释使用"
   ]
  },
  {
   "cell_type": "markdown",
   "metadata": {},
   "source": [
    "## ASCII码与Unicode码\n",
    "- <img src=\"../Photo/19.png\"></img>\n",
    "- <img src=\"../Photo/20.png\"></img>\n",
    "- <img src=\"../Photo/21.png\"></img>"
   ]
  },
  {
   "cell_type": "markdown",
   "metadata": {},
   "source": [
    "## 函数ord、chr\n",
    "- ord 返回ASCII码值\n",
    "- chr 返回字符"
   ]
  },
  {
   "cell_type": "markdown",
   "metadata": {},
   "source": [
    "## EP:\n",
    "- 利用ord与chr进行简单邮箱加密"
   ]
  },
  {
   "cell_type": "code",
   "execution_count": 8,
   "metadata": {},
   "outputs": [
    {
     "name": "stdout",
     "output_type": "stream",
     "text": [
      "输入你的邮箱地址： 123\n",
      "678"
     ]
    }
   ],
   "source": [
    "email = input('输入你的邮箱地址： ')\n",
    "for i in email:\n",
    "   print(chr(ord(i) + 5),end='')"
   ]
  },
  {
   "cell_type": "code",
   "execution_count": 9,
   "metadata": {},
   "outputs": [
    {
     "name": "stdout",
     "output_type": "stream",
     "text": [
      "输入你的邮箱地址： 123\n",
      "678\n"
     ]
    }
   ],
   "source": [
    "email = input('输入你的邮箱地址： ')\n",
    "result = ''\n",
    "for i in email:\n",
    "    result += chr(ord(i) + 5)\n",
    "print(result)"
   ]
  },
  {
   "cell_type": "code",
   "execution_count": 10,
   "metadata": {},
   "outputs": [
    {
     "name": "stdout",
     "output_type": "stream",
     "text": [
      "MD5加密前为 ：QAZxsw123!@#\n",
      "MD5加密后为 ：8f83e549a22ca93b9c1bd6a9226090e6\n"
     ]
    }
   ],
   "source": [
    "import hashlib\n",
    "# 待加密信息\n",
    "str_ = 'QAZxsw123!@#'\n",
    "# 创建md5对象\n",
    "hl = hashlib.md5()\n",
    "# Tips\n",
    "# 此处必须声明encode\n",
    "# 若写法为hl.update(str)  报错为： Unicode-objects must be encoded before hashing\n",
    "hl.update(str_.encode(encoding='utf-8'))\n",
    "\n",
    "print('MD5加密前为 ：' + str_)\n",
    "print('MD5加密后为 ：' + hl.hexdigest())"
   ]
  },
  {
   "cell_type": "code",
   "execution_count": 16,
   "metadata": {},
   "outputs": [
    {
     "name": "stdout",
     "output_type": "stream",
     "text": [
      "输入登录密码：QAZxsw123!@#\n",
      "8f83e549a22ca93b9c1bd6a9226090e6\n",
      "登录成功\n"
     ]
    }
   ],
   "source": [
    "import hashlib\n",
    "database = '8f83e549a22ca93b9c1bd6a9226090e6'\n",
    "password = input('输入登录密码：')\n",
    "test = hashlib.md5()\n",
    "test.update(password.encode(encoding = 'utf-8'))\n",
    "print(test.hexdigest())\n",
    "if test.hexdigest() == database:\n",
    "    print('登录成功')\n",
    "else:\n",
    "    print('登录失败')"
   ]
  },
  {
   "cell_type": "markdown",
   "metadata": {},
   "source": [
    "## 转义序列 \\\n",
    "- a = \"He said,\"Johon's program is easy to read\"\n",
    "- 转掉它原来的意思\n",
    "- 一般情况下只有当语句与默认方法相撞的时候，就需要转义"
   ]
  },
  {
   "cell_type": "markdown",
   "metadata": {},
   "source": [
    "## 高级print\n",
    "- 参数 end： 以什么方式结束打印\n",
    "- 默认换行打印"
   ]
  },
  {
   "cell_type": "code",
   "execution_count": 18,
   "metadata": {},
   "outputs": [
    {
     "name": "stdout",
     "output_type": "stream",
     "text": [
      "a b\n",
      "ab\n",
      "ab!"
     ]
    }
   ],
   "source": [
    "print('a','b')\n",
    "print('a','b',sep='')\n",
    "print('a','b',sep='',end='!')"
   ]
  },
  {
   "cell_type": "markdown",
   "metadata": {},
   "source": [
    "## 函数str\n",
    "- 将类型强制转换成字符串类型\n",
    "- 其他一些以后会学到(list,set,tuple...)"
   ]
  },
  {
   "cell_type": "markdown",
   "metadata": {},
   "source": [
    "## 字符串连接操作\n",
    "- 直接使用 “+” \n",
    "- join() 函数 "
   ]
  },
  {
   "cell_type": "code",
   "execution_count": 32,
   "metadata": {},
   "outputs": [
    {
     "name": "stdout",
     "output_type": "stream",
     "text": [
      "welcome to Python \n",
      "wto eto lto cto oto mto eto  \n"
     ]
    }
   ],
   "source": [
    "a = 'welcome '\n",
    "b = 'to '\n",
    "c = 'Python '\n",
    "print(a + b + c)\n",
    "# abc = b.join(a)\n",
    "# print(abc)"
   ]
  },
  {
   "cell_type": "code",
   "execution_count": 34,
   "metadata": {},
   "outputs": [
    {
     "data": {
      "text/plain": [
       "'joker is a bad man 100100'"
      ]
     },
     "execution_count": 34,
     "metadata": {},
     "output_type": "execute_result"
    }
   ],
   "source": [
    "\"joker is a bad man \" + str(100) + \" 100\""
   ]
  },
  {
   "cell_type": "code",
   "execution_count": 35,
   "metadata": {},
   "outputs": [
    {
     "name": "stdout",
     "output_type": "stream",
     "text": [
      "输入名字： 12\n",
      "12你好！\n"
     ]
    }
   ],
   "source": [
    "name = input('输入名字： ')\n",
    "print(str(name) + '你好！')"
   ]
  },
  {
   "cell_type": "markdown",
   "metadata": {},
   "source": [
    "## EP：\n",
    "- 将 “Welcome” “to” \"Python\" 拼接\n",
    "- 将int型 100 与 “joker is a bad man” 拼接\n",
    "- 从控制台读取字符串\n",
    "> 输入一个名字返回夸奖此人"
   ]
  },
  {
   "cell_type": "markdown",
   "metadata": {},
   "source": [
    "## 实例研究：最小数量硬币\n",
    "- 开发一个程序，让用户输入总金额，这是一个用美元和美分表示的浮点值，返回一个由美元、两角五分的硬币、一角的硬币、五分硬币、以及美分个数\n",
    "<img src=\"../Photo/22.png\"></img>"
   ]
  },
  {
   "cell_type": "code",
   "execution_count": 95,
   "metadata": {},
   "outputs": [
    {
     "name": "stdout",
     "output_type": "stream",
     "text": [
      "输入小数：1.1\n",
      "1\n"
     ]
    },
    {
     "ename": "TypeError",
     "evalue": "must be str, not int",
     "output_type": "error",
     "traceback": [
      "\u001b[1;31m---------------------------------------------------------------------------\u001b[0m",
      "\u001b[1;31mTypeError\u001b[0m                                 Traceback (most recent call last)",
      "\u001b[1;32m<ipython-input-95-7f92db22830e>\u001b[0m in \u001b[0;36m<module>\u001b[1;34m()\u001b[0m\n\u001b[0;32m      3\u001b[0m \u001b[1;32mfor\u001b[0m \u001b[0mi\u001b[0m \u001b[1;32min\u001b[0m \u001b[0mnumber\u001b[0m\u001b[1;33m:\u001b[0m\u001b[1;33m\u001b[0m\u001b[0m\n\u001b[0;32m      4\u001b[0m     \u001b[1;32mif\u001b[0m \u001b[0mi\u001b[0m \u001b[1;33m==\u001b[0m \u001b[1;34m'.'\u001b[0m\u001b[1;33m:\u001b[0m\u001b[1;33m\u001b[0m\u001b[0m\n\u001b[1;32m----> 5\u001b[1;33m         \u001b[0mi\u001b[0m \u001b[1;33m=\u001b[0m \u001b[0mi\u001b[0m \u001b[1;33m+\u001b[0m \u001b[1;36m1\u001b[0m\u001b[1;33m\u001b[0m\u001b[0m\n\u001b[0m\u001b[0;32m      6\u001b[0m         \u001b[0mb\u001b[0m \u001b[1;33m=\u001b[0m \u001b[0mb\u001b[0m\u001b[1;33m+\u001b[0m\u001b[1;36m1\u001b[0m\u001b[1;33m\u001b[0m\u001b[0m\n\u001b[0;32m      7\u001b[0m \u001b[1;33m\u001b[0m\u001b[0m\n",
      "\u001b[1;31mTypeError\u001b[0m: must be str, not int"
     ]
    }
   ],
   "source": [
    "number = input(\"输入小数：\")\n",
    "b = 0 \n",
    "for i in number:\n",
    "    if i == '.':\n",
    "        b = b+1\n",
    "\n",
    "    print(i)\n",
    "print(b)"
   ]
  },
  {
   "cell_type": "markdown",
   "metadata": {},
   "source": [
    "- Python弱项，对于浮点型的处理并不是很好，但是处理数据的时候使用的是Numpy类型\n",
    "<img src=\"../Photo/23.png\"></img>"
   ]
  },
  {
   "cell_type": "markdown",
   "metadata": {},
   "source": [
    "## id与type\n",
    "- id 查看内存地址，在判断语句中将会使用\n",
    "- type 查看元素类型"
   ]
  },
  {
   "cell_type": "code",
   "execution_count": 39,
   "metadata": {},
   "outputs": [
    {
     "data": {
      "text/plain": [
       "str"
      ]
     },
     "execution_count": 39,
     "metadata": {},
     "output_type": "execute_result"
    }
   ],
   "source": [
    "type('1')"
   ]
  },
  {
   "cell_type": "code",
   "execution_count": 43,
   "metadata": {},
   "outputs": [
    {
     "name": "stdout",
     "output_type": "stream",
     "text": [
      "1761832224 1761832224\n"
     ]
    }
   ],
   "source": [
    "a = -5\n",
    "b = -5\n",
    "print(id(a),id(b))"
   ]
  },
  {
   "cell_type": "code",
   "execution_count": 44,
   "metadata": {},
   "outputs": [
    {
     "name": "stdout",
     "output_type": "stream",
     "text": [
      "1761840576 1761840576\n"
     ]
    }
   ],
   "source": [
    "a = 256\n",
    "b = 256\n",
    "print(id(a),id(b))"
   ]
  },
  {
   "cell_type": "code",
   "execution_count": 45,
   "metadata": {},
   "outputs": [
    {
     "name": "stdout",
     "output_type": "stream",
     "text": [
      "2323597090064 2323597089904\n"
     ]
    }
   ],
   "source": [
    "a = 257\n",
    "b = 257\n",
    "print(id(a),id(b))"
   ]
  },
  {
   "cell_type": "code",
   "execution_count": 47,
   "metadata": {},
   "outputs": [
    {
     "name": "stdout",
     "output_type": "stream",
     "text": [
      "2323597089168 2323597089232\n"
     ]
    }
   ],
   "source": [
    "a = -6\n",
    "b = -6\n",
    "print(id(a),id(b))"
   ]
  },
  {
   "cell_type": "markdown",
   "metadata": {},
   "source": [
    "## 其他格式化语句见书"
   ]
  },
  {
   "cell_type": "code",
   "execution_count": null,
   "metadata": {},
   "outputs": [],
   "source": []
  },
  {
   "cell_type": "markdown",
   "metadata": {},
   "source": [
    "# Homework\n",
    "- 1\n",
    "<img src=\"../Photo/24.png\"><img>\n",
    "<img src=\"../Photo/25.png\"><img>"
   ]
  },
  {
   "cell_type": "code",
   "execution_count": 23,
   "metadata": {},
   "outputs": [
    {
     "name": "stdout",
     "output_type": "stream",
     "text": [
      "Enter the length from the center to a vertex: 5.5\n",
      "The area of the pentagon is 71.91\n"
     ]
    }
   ],
   "source": [
    "import math\n",
    "r = eval(input('Enter the length from the center to a vertex: '))\n",
    "s = 2 * r * math.sin(3.14 / 5)\n",
    "area = round(5 * s * s / (4 * math.tan(3.14 / 5)),2)\n",
    "print('The area of the pentagon is ' + str(area))"
   ]
  },
  {
   "cell_type": "markdown",
   "metadata": {},
   "source": [
    "- 2\n",
    "<img src=\"../Photo/26.png\"><img>"
   ]
  },
  {
   "cell_type": "code",
   "execution_count": 56,
   "metadata": {},
   "outputs": [
    {
     "name": "stdout",
     "output_type": "stream",
     "text": [
      "Enter point 1 (latitude and longitude) in degrees: 39.55,-116.25\n",
      "Enter point 2 (latitude and longitude) in degrees: 41.5,87.37\n",
      "The distance between the two points is 15617.054367145705km\n"
     ]
    }
   ],
   "source": [
    "import math\n",
    "x1,y1 = eval(input('Enter point 1 (latitude and longitude) in degrees: '))\n",
    "x2,y2 = eval(input('Enter point 2 (latitude and longitude) in degrees: '))\n",
    "r = 6371.01\n",
    "d = r * math.acos(math.sin(x1) * math.sin(x2) + math.cos(x1) * math.cos(x2) * math.cos(y1-y2))\n",
    "Radius = math.radians(d)\n",
    "print('The distance between the two points is ' + str(d) +  ' km')"
   ]
  },
  {
   "cell_type": "markdown",
   "metadata": {},
   "source": [
    "- 3\n",
    "<img src=\"../Photo/27.png\"><img>"
   ]
  },
  {
   "cell_type": "code",
   "execution_count": 57,
   "metadata": {},
   "outputs": [
    {
     "name": "stdout",
     "output_type": "stream",
     "text": [
      "Enter the side: 5.5\n",
      "The area of the pentagon is 52.07931842245343\n"
     ]
    }
   ],
   "source": [
    "import math\n",
    "side = eval(input('Enter the side: '))\n",
    "area = (5 * side ** 2) / (4 * math.tan(3.14 / 5))\n",
    "print('The area of the pentagon is ' + str(area))"
   ]
  },
  {
   "cell_type": "markdown",
   "metadata": {},
   "source": [
    "- 4\n",
    "<img src=\"../Photo/28.png\"><img>"
   ]
  },
  {
   "cell_type": "code",
   "execution_count": 60,
   "metadata": {},
   "outputs": [
    {
     "name": "stdout",
     "output_type": "stream",
     "text": [
      "Enter the number of sides: 5\n",
      "Enter the number of side: 6.5\n",
      "The area of the polygon is 71.9087467008018\n"
     ]
    }
   ],
   "source": [
    "import math\n",
    "n = eval(input('Enter the number of sides: '))\n",
    "side = eval(input('Enter the number of side: '))\n",
    "area = (n * s ** 2) / (4 * math.tan(3.14 / n))\n",
    "print('The area of the polygon is ' + str(area))"
   ]
  },
  {
   "cell_type": "markdown",
   "metadata": {},
   "source": [
    "- 5\n",
    "<img src=\"../Photo/29.png\"><img>\n",
    "<img src=\"../Photo/30.png\"><img>"
   ]
  },
  {
   "cell_type": "code",
   "execution_count": 62,
   "metadata": {},
   "outputs": [
    {
     "name": "stdout",
     "output_type": "stream",
     "text": [
      "Enter an ASCII code(0 - 127): 69\n",
      "The character is E\n"
     ]
    }
   ],
   "source": [
    "number = eval(input('Enter an ASCII code(0 - 127): '))\n",
    "letter = chr(number)\n",
    "print('The character is ' + str(letter))"
   ]
  },
  {
   "cell_type": "markdown",
   "metadata": {},
   "source": [
    "- 6\n",
    "<img src=\"../Photo/31.png\"><img>"
   ]
  },
  {
   "cell_type": "code",
   "execution_count": 70,
   "metadata": {},
   "outputs": [
    {
     "name": "stdout",
     "output_type": "stream",
     "text": [
      "Enter employ is name: tom\n",
      "Enter number of hours worked in a week: 10.0\n",
      "Enter hourly pay rate: 9.75\n",
      "Enter federal tex withholding rate: 0.20\n",
      "Enter state tax withholding rate: 0.09\n",
      "97.4519\n",
      "Employee Name: tom\n",
      "Hours Worked:: 10.0\n",
      "Pay Rate: $9.75\n",
      "Gross Rate: $97.4519\n",
      "Deductions: \n",
      "  Federal Withholding(20.0%): $19.490380000000002\n",
      "  State Deduction(9.0%): $8.770670999999998\n",
      "  Total Deduction: $28.261051000000002\n",
      "Net Pay: $69.19084899999999\n"
     ]
    }
   ],
   "source": [
    "name = input('Enter employ is name: ')\n",
    "time = eval(input('Enter number of hours worked in a week: '))\n",
    "money = eval(input('Enter hourly pay rate: '))\n",
    "tax1 = eval(input('Enter federal tex withholding rate: '))\n",
    "tax2 = eval(input('Enter state tax withholding rate: '))\n",
    "salary = money * time - s1 - s2\n",
    "print(salary)\n",
    "f = salary * tax1\n",
    "st = salary * tax2\n",
    "zong = f + st\n",
    "zuihou = salary - zong\n",
    "print('Employee Name: ' + name)\n",
    "print('Hours Worked:: ' + str(time))\n",
    "print('Pay Rate: $' + str(money))\n",
    "print('Gross Rate: $' + str(salary))\n",
    "print('Deductions: ')\n",
    "print('  ' + 'Federal Withholding(20.0%): $' + str(f))\n",
    "print('  ' + 'State Deduction(9.0%): $' + str(st))\n",
    "print('  ' + 'Total Deduction: $' + str(zong))\n",
    "print('Net Pay: $' + str(zuihou))"
   ]
  },
  {
   "cell_type": "markdown",
   "metadata": {},
   "source": [
    "- 7\n",
    "<img src=\"../Photo/32.png\"><img>"
   ]
  },
  {
   "cell_type": "code",
   "execution_count": 74,
   "metadata": {},
   "outputs": [
    {
     "name": "stdout",
     "output_type": "stream",
     "text": [
      "Enter an integer: 1234\n",
      "4321"
     ]
    }
   ],
   "source": [
    "number = eval(input('Enter an integer: '))\n",
    "i = 0\n",
    "while number > 0:\n",
    "    i = str(number % 10)\n",
    "    number = number // 10\n",
    "    print(i,end='')"
   ]
  },
  {
   "cell_type": "markdown",
   "metadata": {},
   "source": [
    "- 8 进阶：\n",
    "> 加密一串文本，并将解密后的文件写入本地保存"
   ]
  },
  {
   "cell_type": "code",
   "execution_count": 80,
   "metadata": {},
   "outputs": [
    {
     "name": "stdout",
     "output_type": "stream",
     "text": [
      "输入要加密的文本内容： 1234\n",
      "MD5加密前为 ：1234\n",
      "MD5加密后为 ：81dc9bdb52d04dc20036dbd8313ed055\n"
     ]
    }
   ],
   "source": [
    "import hashlib\n",
    "text = input('输入要加密的文本内容： ')\n",
    "hl = hashlib.md5()\n",
    "hl.update(text.encode(encoding='utf-8'))\n",
    "print('MD5加密前为 ：' + text)\n",
    "print('MD5加密后为 ：' + hl.hexdigest())"
   ]
  },
  {
   "cell_type": "code",
   "execution_count": 83,
   "metadata": {},
   "outputs": [
    {
     "name": "stdout",
     "output_type": "stream",
     "text": [
      "输入要加密的文本内容： 1234\n",
      "6789\n"
     ]
    }
   ],
   "source": [
    "text = input('输入要加密的文本内容： ')\n",
    "result = ''\n",
    "for i in text:\n",
    "    result += chr(ord(i) + 5)\n",
    "print(result)"
   ]
  },
  {
   "cell_type": "code",
   "execution_count": 101,
   "metadata": {},
   "outputs": [
    {
     "name": "stdout",
     "output_type": "stream",
     "text": [
      "输入一串文本>>123\n",
      "MD5加密后为 ：202cb962ac59075b964b07152d234b70\n"
     ]
    },
    {
     "ename": "NameError",
     "evalue": "name 'file_handle' is not defined",
     "output_type": "error",
     "traceback": [
      "\u001b[1;31m---------------------------------------------------------------------------\u001b[0m",
      "\u001b[1;31mNameError\u001b[0m                                 Traceback (most recent call last)",
      "\u001b[1;32m<ipython-input-101-4b4c5ed4a4dc>\u001b[0m in \u001b[0;36m<module>\u001b[1;34m()\u001b[0m\n\u001b[0;32m      4\u001b[0m \u001b[0mhl\u001b[0m\u001b[1;33m.\u001b[0m\u001b[0mupdate\u001b[0m\u001b[1;33m(\u001b[0m\u001b[0mwenben\u001b[0m\u001b[1;33m.\u001b[0m\u001b[0mencode\u001b[0m\u001b[1;33m(\u001b[0m\u001b[0mencoding\u001b[0m\u001b[1;33m=\u001b[0m\u001b[1;34m'utf-8'\u001b[0m\u001b[1;33m)\u001b[0m\u001b[1;33m)\u001b[0m\u001b[1;33m\u001b[0m\u001b[0m\n\u001b[0;32m      5\u001b[0m \u001b[0mprint\u001b[0m\u001b[1;33m(\u001b[0m\u001b[1;34m'MD5加密后为 ：'\u001b[0m \u001b[1;33m+\u001b[0m \u001b[0mhl\u001b[0m\u001b[1;33m.\u001b[0m\u001b[0mhexdigest\u001b[0m\u001b[1;33m(\u001b[0m\u001b[1;33m)\u001b[0m\u001b[1;33m)\u001b[0m\u001b[1;33m\u001b[0m\u001b[0m\n\u001b[1;32m----> 6\u001b[1;33m \u001b[0mfile_handle\u001b[0m\u001b[1;33m.\u001b[0m\u001b[0mwrite\u001b[0m\u001b[1;33m(\u001b[0m\u001b[0mwenben\u001b[0m\u001b[1;33m)\u001b[0m\u001b[1;33m\u001b[0m\u001b[0m\n\u001b[0m\u001b[0;32m      7\u001b[0m \u001b[0mfile_handle\u001b[0m\u001b[1;33m=\u001b[0m\u001b[0mopen\u001b[0m\u001b[1;33m(\u001b[0m\u001b[1;34m'1.txt'\u001b[0m\u001b[1;33m,\u001b[0m\u001b[0mmode\u001b[0m\u001b[1;33m=\u001b[0m\u001b[1;34m'w'\u001b[0m\u001b[1;33m)\u001b[0m\u001b[1;33m\u001b[0m\u001b[0m\n",
      "\u001b[1;31mNameError\u001b[0m: name 'file_handle' is not defined"
     ]
    }
   ],
   "source": [
    "import hashlib\n",
    "wenben = input('输入一串文本>>')\n",
    "hl = hashlib.md5()\n",
    "hl.update(wenben.encode(encoding='utf-8'))\n",
    "print('MD5加密后为 ：' + hl.hexdigest())\n",
    "file_handle.write(wenben)\n",
    "file_handle=open('1.txt',mode='w')"
   ]
  },
  {
   "cell_type": "code",
   "execution_count": null,
   "metadata": {},
   "outputs": [],
   "source": []
  }
 ],
 "metadata": {
  "kernelspec": {
   "display_name": "Python 3",
   "language": "python",
   "name": "python3"
  },
  "language_info": {
   "codemirror_mode": {
    "name": "ipython",
    "version": 3
   },
   "file_extension": ".py",
   "mimetype": "text/x-python",
   "name": "python",
   "nbconvert_exporter": "python",
   "pygments_lexer": "ipython3",
   "version": "3.6.4"
  }
 },
 "nbformat": 4,
 "nbformat_minor": 2
}
