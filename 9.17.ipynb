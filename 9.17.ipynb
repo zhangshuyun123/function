{
 "cells": [
  {
   "cell_type": "markdown",
   "metadata": {},
   "source": [
    "# 对象和类\n",
    "- 一个学生，一张桌子，一个圆都是对象\n",
    "- 对象是类的一个实例，你可以创建多个对象，创建类的一个实例过程被称为实例化，\n",
    "- 在Python中对象就是实例，而实例就是对象"
   ]
  },
  {
   "cell_type": "code",
   "execution_count": 10,
   "metadata": {},
   "outputs": [],
   "source": [
    "# import pygame\n",
    "# class className:\n",
    "#     def music():\n",
    "#         print(\"播放音乐2\")\n",
    "#         track1=pygame.mixer.music.load(\"E:\\CloudMusic\\倒数-G.E.M.邓紫棋.mp3\")\n",
    "#         pygame.mixer.music.play()\n",
    "#     music()"
   ]
  },
  {
   "cell_type": "code",
   "execution_count": 2,
   "metadata": {},
   "outputs": [],
   "source": [
    "class Joker:\n",
    "    def __init__(self):\n",
    "        self.haha = 10\n",
    "        self.lala = 10\n",
    "#         self.m = None\n",
    "#         self.n = None\n",
    "    def pow2(self):\n",
    "        m = self.haha ** 2\n",
    "        return m\n",
    "    def pow3(self):\n",
    "        n = self.lala ** 3\n",
    "        return n\n",
    "    def miuns(self):\n",
    "        m1 = self.pow2()\n",
    "        n1 = self.pow3()\n",
    "        print(n1- m1)"
   ]
  },
  {
   "cell_type": "code",
   "execution_count": 6,
   "metadata": {},
   "outputs": [
    {
     "name": "stdout",
     "output_type": "stream",
     "text": [
      "900\n"
     ]
    }
   ],
   "source": [
    "Joker().miuns()"
   ]
  },
  {
   "cell_type": "code",
   "execution_count": 34,
   "metadata": {},
   "outputs": [
    {
     "name": "stdout",
     "output_type": "stream",
     "text": [
      "-990000\n"
     ]
    }
   ],
   "source": [
    "class get_pow2_pow3:\n",
    "    def __init__(self,num1,num2):\n",
    "        self.num1 = num1\n",
    "        self.num2 = num2\n",
    "        self.res1 = None\n",
    "        self.res2 = None\n",
    "    def pow2_pow3(self):\n",
    "        self.res1 = self.num1 ** 2\n",
    "        self.res2 = self.num2 ** 3\n",
    "class chazhi(get_pow2_pow3):\n",
    "    def __init__(self,num1,num2):\n",
    "        get_pow2_pow3.__init__(self,num1,num2)\n",
    "    def cz(self):\n",
    "        print(self.res1 - self.res2)\n",
    "B = chazhi(100,100)\n",
    "B.pow2_pow3()\n",
    "B.cz()"
   ]
  },
  {
   "cell_type": "code",
   "execution_count": 45,
   "metadata": {},
   "outputs": [],
   "source": [
    "class pow2:\n",
    "    def __init__(self,num1):\n",
    "        self.num1 = 10\n",
    "        self.res1 = None\n",
    "    def pow2_(self):\n",
    "        self.res1 = self.num1 ** 2"
   ]
  },
  {
   "cell_type": "code",
   "execution_count": 51,
   "metadata": {},
   "outputs": [],
   "source": [
    "class pow3:\n",
    "    def __init__(self,num2):\n",
    "        self.num2 = 10\n",
    "        self.res2 = None\n",
    "    def pow3_(self):\n",
    "        self.res2 =self.num2 ** 3"
   ]
  },
  {
   "cell_type": "code",
   "execution_count": 52,
   "metadata": {},
   "outputs": [
    {
     "name": "stdout",
     "output_type": "stream",
     "text": [
      "900\n"
     ]
    }
   ],
   "source": [
    "class chazhi(pow2,pow3):\n",
    "    def __init__(self,num1,num2):\n",
    "        pow3.__init__(self,num1)\n",
    "        pow2.__init__(self,num2)\n",
    "    def cz(self):\n",
    "        print(self.res2 - self.res1)\n",
    "A = chazhi(10,10)\n",
    "A.pow2_()\n",
    "A.pow3_()\n",
    "A.cz()"
   ]
  },
  {
   "cell_type": "markdown",
   "metadata": {},
   "source": [
    "## 定义类\n",
    "class ClassName:\n",
    "\n",
    "    do something\n",
    "    \n",
    "- class 类的表示与def 一样\n",
    "- 类名最好使用驼峰式\n",
    "- 在Python2中类是需要继承基类object的，在Python中默认继承，可写可不写\n",
    "- 可以将普通代码理解为皮肤，而函数可以理解为内衣，那么类可以理解为外套"
   ]
  },
  {
   "cell_type": "markdown",
   "metadata": {},
   "source": [
    "## 定义一个不含初始化__init__的简单类\n",
    "class ClassName:\n",
    "\n",
    "    joker = “Home”\n",
    "    \n",
    "    def func():\n",
    "        print('Worker')\n",
    "    \n",
    "- 尽量少使用"
   ]
  },
  {
   "cell_type": "code",
   "execution_count": null,
   "metadata": {},
   "outputs": [],
   "source": []
  },
  {
   "cell_type": "markdown",
   "metadata": {},
   "source": [
    "## 定义一个标准类\n",
    "- __init__ 代表初始化，可以初始化任何动作\n",
    "- 此时类调用要使用()，其中（）可以理解为开始初始化\n",
    "- 初始化内的元素，类中其他的函数可以共享\n",
    "![](../Photo/85.png)"
   ]
  },
  {
   "cell_type": "code",
   "execution_count": null,
   "metadata": {
    "scrolled": true
   },
   "outputs": [],
   "source": []
  },
  {
   "cell_type": "markdown",
   "metadata": {},
   "source": [
    "- Circle 和 className_ 的第一个区别有 __init__ 这个函数\n",
    "- 。。。。   第二个区别，类中的每一个函数都有self的这个“参数”"
   ]
  },
  {
   "cell_type": "markdown",
   "metadata": {},
   "source": [
    "## 何为self？\n",
    "- self 是指向对象本身的参数\n",
    "- self 只是一个命名规则，其实可以改变的，但是我们约定俗成的是self，也便于理解\n",
    "- 使用了self就可以访问类中定义的成员\n",
    "<img src=\"../Photo/86.png\"></img>"
   ]
  },
  {
   "cell_type": "markdown",
   "metadata": {},
   "source": [
    "## 使用类 Cirlcle"
   ]
  },
  {
   "cell_type": "markdown",
   "metadata": {},
   "source": [
    "## 类的传参\n",
    "- class ClassName:\n",
    "    \n",
    "        def __init__(self, para1,para2...)：\n",
    "            \n",
    "            self.para1 = para1\n",
    "            \n",
    "            self.para2 = para2"
   ]
  },
  {
   "cell_type": "markdown",
   "metadata": {},
   "source": [
    "## EP:\n",
    "- A：定义一个类，类中含有两个功能：\n",
    "    - 1、计算随机数的最大值\n",
    "    - 2、计算随机数的最小值\n",
    "- B：定义一个类，（类中函数的嵌套使用）\n",
    "    - 1、第一个函数的功能为：输入一个数字\n",
    "    - 2、第二个函数的功能为：使用第一个函数中得到的数字进行平方处理\n",
    "    - 3、第三个函数的功能为：得到平方处理后的数字 - 原来输入的数字，并打印结果"
   ]
  },
  {
   "cell_type": "markdown",
   "metadata": {},
   "source": [
    "## 类的继承\n",
    "- 类的单继承\n",
    "- 类的多继承\n",
    "- 继承标识\n",
    ">  class SonClass(FatherClass):\n",
    "            \n",
    "            def __init__(self):\n",
    "            \n",
    "                FatherClass.__init__(self)"
   ]
  },
  {
   "cell_type": "markdown",
   "metadata": {},
   "source": [
    "## 私有数据域(私有变量，或者私有函数)\n",
    "- 在Python中 变量名或者函数名使用双下划线代表私有  \\__Joker,   def \\__Joker():\n",
    "- 私有数据域不可继承\n",
    "- 私有数据域强制继承   \\__dir__()"
   ]
  },
  {
   "cell_type": "code",
   "execution_count": 57,
   "metadata": {},
   "outputs": [
    {
     "data": {
      "text/plain": [
       "<_sre.SRE_Match object; span=(0, 0), match=''>"
      ]
     },
     "execution_count": 57,
     "metadata": {},
     "output_type": "execute_result"
    }
   ],
   "source": [
    "# import urllib3\n",
    "import requests\n",
    "import re\n",
    "url ='http://www.baidu.com'\n",
    "response = requests.get(url)  #get请求\n",
    "response.encoding = 'utf-8'\n",
    "html = response.text\n",
    "re.search('',html)"
   ]
  },
  {
   "cell_type": "code",
   "execution_count": null,
   "metadata": {},
   "outputs": [],
   "source": [
    "import re\n",
    "re.search()"
   ]
  },
  {
   "cell_type": "markdown",
   "metadata": {},
   "source": [
    "![](../Photo/87.png)"
   ]
  },
  {
   "cell_type": "markdown",
   "metadata": {},
   "source": [
    "## EP:\n",
    "![](../Photo/88.png)\n",
    "![](../Photo/89.png)\n",
    "![](../Photo/90.png)\n"
   ]
  },
  {
   "cell_type": "markdown",
   "metadata": {},
   "source": [
    "## 类的其他\n",
    "- 类的封装\n",
    "    - 实际上就是将一类功能放在一起，方便未来进行管理\n",
    "- 类的继承（上面已经讲过）\n",
    "- 类的多态\n",
    "    - 包括装饰器：将放在以后处理高级类中教\n",
    "    - 装饰器的好处：当许多类中的函数需要使用同一个功能的时候，那么使用装饰器就会方便许多\n",
    "    - 装饰器是有固定的写法\n",
    "        - 其包括普通装饰器与带参装饰器"
   ]
  },
  {
   "cell_type": "markdown",
   "metadata": {},
   "source": [
    "# Homewor\n",
    "## UML类图可以不用画\n",
    "## UML 实际上就是一个思维图\n",
    "- 1\n",
    "![](../Photo/91.png)"
   ]
  },
  {
   "cell_type": "code",
   "execution_count": 79,
   "metadata": {},
   "outputs": [
    {
     "name": "stdout",
     "output_type": "stream",
     "text": [
      "160\n",
      "88\n",
      "131.25\n",
      "82.0\n"
     ]
    }
   ],
   "source": [
    "class Rectangle:\n",
    "    def __init__(self,width,height):\n",
    "        self.width = width\n",
    "        self.height = height\n",
    "        self.mianji = None\n",
    "        self.zhouchang = None\n",
    "    def getArea(self):\n",
    "        self.mianji = self.width * self.height\n",
    "        print(self.mianji)\n",
    "    def getPerimeter(self):\n",
    "        self.zhouchang = (self.width + self.height) * 2\n",
    "        print(self.zhouchang)\n",
    "class ceshi(Rectangle):\n",
    "    def __init__(self,width,height):\n",
    "        Rectangle.__init__(self,width,height)\n",
    "B = ceshi(4,40)\n",
    "B.getArea()\n",
    "B.getPerimeter()\n",
    "A = ceshi(3.5,37.5)\n",
    "A.getArea()\n",
    "A.getPerimeter()"
   ]
  },
  {
   "cell_type": "code",
   "execution_count": 5,
   "metadata": {},
   "outputs": [],
   "source": [
    "class  Rectangle():\n",
    "    def __init__(self, width = 1, height = 2):\n",
    "        self.width = width\n",
    "        self.height = height\n",
    "    def getwh(self):\n",
    "        return self.width, self.height\n",
    "    def getArea(self):\n",
    "        return self.width * self.height\n",
    "    def getPerimeter(self):\n",
    "        return 2*(self.width + self.height)"
   ]
  },
  {
   "cell_type": "code",
   "execution_count": 6,
   "metadata": {},
   "outputs": [
    {
     "name": "stdout",
     "output_type": "stream",
     "text": [
      "宽为4.00，高为40.00的长方形的面积为160.00，周长为88.00\n"
     ]
    }
   ],
   "source": [
    "Rec1 = Rectangle(4, 40)\n",
    "width1, height1 = Rec1.getwh()\n",
    "area1 = Rec1.getArea()\n",
    "perim1 = Rec1.getPerimeter()\n",
    "print('宽为%.2f，高为%.2f的长方形的面积为%.2f，周长为%.2f' %(width1, height1, area1, perim1))"
   ]
  },
  {
   "cell_type": "code",
   "execution_count": 7,
   "metadata": {},
   "outputs": [
    {
     "name": "stdout",
     "output_type": "stream",
     "text": [
      "宽为3.50，高为35.70的长方形的面积为124.95，周长为78.40\n"
     ]
    }
   ],
   "source": [
    "Rec1 = Rectangle(3.5, 35.7)\n",
    "width1, height1 = Rec1.getwh()\n",
    "area1 = Rec1.getArea()\n",
    "perim1 = Rec1.getPerimeter()\n",
    "print('宽为%.2f，高为%.2f的长方形的面积为%.2f，周长为%.2f' %(width1, height1, area1, perim1))"
   ]
  },
  {
   "cell_type": "markdown",
   "metadata": {},
   "source": [
    "- 2\n",
    "![](../Photo/92.png)"
   ]
  },
  {
   "cell_type": "code",
   "execution_count": 8,
   "metadata": {},
   "outputs": [],
   "source": [
    "class Account():\n",
    "    def __init__(self, id = 0, balance = 100, annualinterestRate = 0):\n",
    "        self.__id = id\n",
    "        self.__balance = balance\n",
    "        self.__annualinterestRate = annualinterestRate\n",
    "    def getId(self):\n",
    "        return self.__id\n",
    "    def changeId(self, id):\n",
    "        self.__id = id\n",
    "    def getBalance(self):\n",
    "        return self.__balance\n",
    "    def changeBalance(self, balance):\n",
    "        self.__balance = balance\n",
    "    def getBalance(self):\n",
    "        return self.__balance\n",
    "    def changeAnnualinterestRate(self, annualinterestRate):\n",
    "        self.__annualinterestRate = annualinterestRate    \n",
    "        \n",
    "    def getMonthlyInterestRate(self):\n",
    "        return self.__annualinterestRate / 1200\n",
    "    def getMonthlyInterest(self):\n",
    "        monthlyInterestRate = self.getMonthlyInterestRate()\n",
    "        return self.__balance * monthlyInterestRate\n",
    "    def withdraw(self, amount):\n",
    "        self.__balance -= amount\n",
    "    def deposit(self, deamount):\n",
    "        self.__balance += deamount"
   ]
  },
  {
   "cell_type": "code",
   "execution_count": 9,
   "metadata": {},
   "outputs": [
    {
     "name": "stdout",
     "output_type": "stream",
     "text": [
      "The ID is  1122\n",
      "The balance is  20500\n",
      "The MonthlyInterestRate is  0.00375\n",
      "The MonthlyInterest is  76.875\n"
     ]
    }
   ],
   "source": [
    "account = Account(1122, 20000, 4.5)\n",
    "account.withdraw(2500)\n",
    "account.deposit(3000)\n",
    "print('The ID is ', account.getId())\n",
    "print('The balance is ', account.getBalance())\n",
    "print('The MonthlyInterestRate is ', account.getMonthlyInterestRate())\n",
    "print('The MonthlyInterest is ', account.getMonthlyInterest())"
   ]
  },
  {
   "cell_type": "code",
   "execution_count": 10,
   "metadata": {},
   "outputs": [
    {
     "name": "stdout",
     "output_type": "stream",
     "text": [
      "The ID is  1001\n",
      "The balance is  20510\n",
      "The MonthlyInterestRate is  0.003\n",
      "The MonthlyInterest is  61.53\n"
     ]
    }
   ],
   "source": [
    "account2 = Account(1122, 20000, 4.5)\n",
    "account2.changeId(1001)\n",
    "account2.changeBalance(20010)\n",
    "account2.changeAnnualinterestRate(3.6)\n",
    "account2.withdraw(2500)\n",
    "account2.deposit(3000)\n",
    "print('The ID is ', account2.getId())\n",
    "print('The balance is ', account2.getBalance())\n",
    "print('The MonthlyInterestRate is ', account2.getMonthlyInterestRate())\n",
    "print('The MonthlyInterest is ', account2.getMonthlyInterest())"
   ]
  },
  {
   "cell_type": "markdown",
   "metadata": {},
   "source": [
    "- 3\n",
    "![](../Photo/93.png)"
   ]
  },
  {
   "cell_type": "code",
   "execution_count": 11,
   "metadata": {},
   "outputs": [],
   "source": [
    "class Fan():\n",
    "    def __init__(self, speed = 1, on = False, radius = 5, color = 'blue'):\n",
    "        if speed == 1:\n",
    "            self.__speed = 'SLOW'\n",
    "        elif speed == 2:\n",
    "            self.__speed = 'MEDIUM'\n",
    "        else:\n",
    "            self.__speed = 'FAST'      \n",
    "        self.__on = on\n",
    "        self.__radius = radius \n",
    "        self.__color = color\n",
    "    \n",
    "    def getSpeed(self):\n",
    "        return self.__speed\n",
    "    def getOn(self):\n",
    "        return self.__on\n",
    "    def getRadius(self):\n",
    "        return self.__radius\n",
    "    def getColor(self):\n",
    "        return self.__color\n",
    "    def changeSpeed(self, speed):\n",
    "        if speed == 1:\n",
    "            self.__speed = 'SLOW'\n",
    "        elif speed == 2:\n",
    "            self.__speed = 'MEDIUM'\n",
    "        else:\n",
    "            self.__speed = 'FAST'\n",
    "    def changeOn(self, on):\n",
    "        self.__on = on\n",
    "    def changeRadius(self, radius):\n",
    "        self.__radius = radius\n",
    "    def changeColor(self, color):\n",
    "        self.__color = color"
   ]
  },
  {
   "cell_type": "code",
   "execution_count": 12,
   "metadata": {},
   "outputs": [
    {
     "name": "stdout",
     "output_type": "stream",
     "text": [
      "The speed is  FAST\n",
      "The radius is  10\n",
      "The Color is  yellow\n",
      "The on is  True\n"
     ]
    }
   ],
   "source": [
    "fan1 = Fan(3, True, 10, 'yellow')\n",
    "print('The speed is ', fan1.getSpeed())\n",
    "print('The radius is ', fan1.getRadius())\n",
    "print('The Color is ', fan1.getColor())\n",
    "print('The on is ', fan1.getOn())"
   ]
  },
  {
   "cell_type": "code",
   "execution_count": 13,
   "metadata": {},
   "outputs": [
    {
     "name": "stdout",
     "output_type": "stream",
     "text": [
      "The speed is  MEDIUM\n",
      "The radius is  5\n",
      "The Color is  red\n",
      "The on is  False\n"
     ]
    }
   ],
   "source": [
    "fan2 = Fan()\n",
    "fan2.changeSpeed(2)\n",
    "fan2.changeOn(False)\n",
    "fan2.changeRadius(5)\n",
    "fan2.changeColor('red')\n",
    "print('The speed is ', fan2.getSpeed())\n",
    "print('The radius is ', fan2.getRadius())\n",
    "print('The Color is ', fan2.getColor())\n",
    "print('The on is ', fan2.getOn())"
   ]
  },
  {
   "cell_type": "markdown",
   "metadata": {},
   "source": [
    "- 4\n",
    "![](../Photo/94.png)\n",
    "![](../Photo/95.png)"
   ]
  },
  {
   "cell_type": "code",
   "execution_count": 14,
   "metadata": {},
   "outputs": [],
   "source": [
    "import math\n",
    "class RegularPolygon():\n",
    "    def __init__(self, n=3, side=1, x=0, y=0):\n",
    "        self.__n = n\n",
    "        self.__side = side\n",
    "        self.x = x\n",
    "        self.y = y\n",
    "    def getN(self):\n",
    "        return self.__n\n",
    "    def getSide(self):\n",
    "        return self.__side\n",
    "    def getX(self):\n",
    "        return self.__x\n",
    "    def getY(self):\n",
    "        return self.__y\n",
    "    def setN(self, n):\n",
    "        self.__n = n\n",
    "    def setSide(self, side):\n",
    "        self.__side = side\n",
    "    def setX(self, x):\n",
    "        self.__x = x\n",
    "    def setY(self, y):\n",
    "        self.__y = y\n",
    "    def getPerimeter(self):\n",
    "        return self.__n * self.__side\n",
    "    def getArea(self):\n",
    "        area = self.__n * (self.__side ** 2) / (4 * math.tan(math.pi/self.__n))\n",
    "        return area"
   ]
  },
  {
   "cell_type": "code",
   "execution_count": 15,
   "metadata": {},
   "outputs": [
    {
     "name": "stdout",
     "output_type": "stream",
     "text": [
      "边长为1的正3边形的周长为3.00，面积为0.43\n",
      "边长为4的正6边形的周长为24.00，面积为41.57\n",
      "边长为4的正10边形的周长为40.00，面积为123.11\n"
     ]
    }
   ],
   "source": [
    "regu1 = RegularPolygon()\n",
    "regu2 = RegularPolygon(6, 4)\n",
    "regu3 = RegularPolygon(10, 4, 5.6, 7.8)\n",
    "print('边长为%d的正%d边形的周长为%.2f，面积为%.2f' \\\n",
    "      %(regu1.getSide(), regu1.getN(), regu1.getPerimeter(), regu1.getArea()))\n",
    "print('边长为%d的正%d边形的周长为%.2f，面积为%.2f' \\\n",
    "      %(regu2.getSide(), regu2.getN(), regu2.getPerimeter(), regu2.getArea()))\n",
    "print('边长为%d的正%d边形的周长为%.2f，面积为%.2f' \\\n",
    "      %(regu3.getSide(), regu3.getN(), regu3.getPerimeter(), regu3.getArea()))"
   ]
  },
  {
   "cell_type": "markdown",
   "metadata": {},
   "source": [
    "- 5\n",
    "![](../Photo/96.png)"
   ]
  },
  {
   "cell_type": "code",
   "execution_count": 18,
   "metadata": {},
   "outputs": [],
   "source": [
    "class LinearEquation():\n",
    "    def __init__(self, a, b, c, d, e, f):\n",
    "        self.__a = a\n",
    "        self.__b = b\n",
    "        self.__c = c\n",
    "        self.__d = d\n",
    "        self.__e = e\n",
    "        self.__f = f\n",
    "    def getA(self):\n",
    "        return self.__a\n",
    "    def getB(self):\n",
    "        return self.__b\n",
    "    def getC(self):\n",
    "        return self.__c\n",
    "    def getD(self):\n",
    "        return self.__d\n",
    "    def getE(self):\n",
    "        return self.__e\n",
    "    def getF(self):\n",
    "        return self.__f\n",
    "    def isSolvable(self):\n",
    "        if self.__a * self.__d != self.__b * self.__c:\n",
    "            return True\n",
    "        else:\n",
    "            return False\n",
    "    def getX(self):\n",
    "        return (self.__e*self.__d - self.__b*self.__f)/(self.__a * self.__d - self.__b * self.__c)\n",
    "    def getY(self):\n",
    "        return (self.__a*self.__f - self.__e*self.__c)/(self.__a * self.__d - self.__b * self.__c)"
   ]
  },
  {
   "cell_type": "code",
   "execution_count": 19,
   "metadata": {},
   "outputs": [
    {
     "name": "stdout",
     "output_type": "stream",
     "text": [
      "Enter a:1\n",
      "Enter b:5\n",
      "Enter c:4\n",
      "Enter d:3\n",
      "Enter e:6\n",
      "Enter f:2\n",
      "X = -0.47, Y = 1.29\n"
     ]
    }
   ],
   "source": [
    "def main():\n",
    "    a = eval(input('Enter a:'))\n",
    "    b = eval(input('Enter b:'))\n",
    "    c = eval(input('Enter c:'))\n",
    "    d = eval(input('Enter d:'))\n",
    "    e = eval(input('Enter e:'))\n",
    "    f = eval(input('Enter f:'))\n",
    "    equation = LinearEquation(a, b, c, d, e, f)\n",
    "    if equation.isSolvable() == True:\n",
    "        print('X = %.2f, Y = %.2f' %(equation.getX(), equation.getY()))\n",
    "    else:\n",
    "        print('这个方程无解')\n",
    "main()"
   ]
  },
  {
   "cell_type": "markdown",
   "metadata": {},
   "source": [
    "- 6\n",
    "![](../Photo/97.png)"
   ]
  },
  {
   "cell_type": "code",
   "execution_count": 20,
   "metadata": {},
   "outputs": [],
   "source": [
    "class Equation():\n",
    "    def __init__(self, x1, y1, x2, y3):\n",
    "        self.__x1 = x1\n",
    "        self.__y1 = y1\n",
    "        self.__x2 = x2\n",
    "        self.__y2 = y2\n",
    "    def getEquation(self):\n",
    "        a = self.__y2 - self.__y1\n",
    "        b = -(self.__x2 - self.__x1)\n",
    "        e = (self.__y2-self.__y1)*self.__x1 - (self.__x2-self.__x1)*self.__y1\n",
    "        return a, b, e"
   ]
  },
  {
   "cell_type": "code",
   "execution_count": 22,
   "metadata": {},
   "outputs": [
    {
     "name": "stdout",
     "output_type": "stream",
     "text": [
      "输入第一条线段的两个端点:2,2,0,0\n",
      "输入第二条线段的两个端点:0,2,2,0\n",
      "X = 1.00, Y = 1.00\n"
     ]
    }
   ],
   "source": [
    "x1, y1, x2, y2= eval(input('输入第一条线段的两个端点:'))\n",
    "x3, y3, x4, y4= eval(input('输入第二条线段的两个端点:'))\n",
    "Equ1 = Equation(x1, y1, x2, y2)\n",
    "Equ2 = Equation(x3, y3, x4, y4)\n",
    "a, b, e = Equ1.getEquation()\n",
    "c, d, f = Equ2.getEquation()\n",
    "equation = LinearEquation(a, b, c, d, e, f)\n",
    "if equation.isSolvable() == True:\n",
    "    print('X = %.2f, Y = %.2f' %(equation.getX(), equation.getY()))\n",
    "else:\n",
    "    print('这个方程无解')"
   ]
  },
  {
   "cell_type": "markdown",
   "metadata": {},
   "source": [
    "- 7\n",
    "![](../Photo/98.png)"
   ]
  },
  {
   "cell_type": "code",
   "execution_count": 23,
   "metadata": {},
   "outputs": [],
   "source": [
    "import random\n",
    "\n",
    "class father1():\n",
    "    def __init__(self):\n",
    "        self.Random = None\n",
    "    def create_num(self):\n",
    "        self.Random = random.randint(0, 100)\n",
    "        return self.Random\n",
    "class Son1(father1):\n",
    "    def __init__(self):\n",
    "        father1.__init__(self)\n",
    "    def result(self):\n",
    "        for i in range(10):\n",
    "            res_num = self.create_num()\n",
    "            if res_num % 2 == 0:\n",
    "                print('%d 是偶数' %self.Random)\n",
    "            else:\n",
    "                print('%d 是奇数' %self.Random)"
   ]
  },
  {
   "cell_type": "code",
   "execution_count": 24,
   "metadata": {},
   "outputs": [
    {
     "name": "stdout",
     "output_type": "stream",
     "text": [
      "72 是偶数\n",
      "31 是奇数\n",
      "14 是偶数\n",
      "47 是奇数\n",
      "63 是奇数\n",
      "85 是奇数\n",
      "87 是奇数\n",
      "42 是偶数\n",
      "98 是偶数\n",
      "72 是偶数\n"
     ]
    }
   ],
   "source": [
    "Son1().result()"
   ]
  },
  {
   "cell_type": "code",
   "execution_count": null,
   "metadata": {},
   "outputs": [],
   "source": []
  }
 ],
 "metadata": {
  "kernelspec": {
   "display_name": "Python 3",
   "language": "python",
   "name": "python3"
  },
  "language_info": {
   "codemirror_mode": {
    "name": "ipython",
    "version": 3
   },
   "file_extension": ".py",
   "mimetype": "text/x-python",
   "name": "python",
   "nbconvert_exporter": "python",
   "pygments_lexer": "ipython3",
   "version": "3.6.4"
  }
 },
 "nbformat": 4,
 "nbformat_minor": 2
}
